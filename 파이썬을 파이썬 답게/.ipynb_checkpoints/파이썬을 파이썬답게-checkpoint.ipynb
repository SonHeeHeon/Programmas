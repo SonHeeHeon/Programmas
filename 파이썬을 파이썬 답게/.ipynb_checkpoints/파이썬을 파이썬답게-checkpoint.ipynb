{
 "cells": [
  {
   "cell_type": "markdown",
   "metadata": {},
   "source": [
    "# 파이썬을 파이썬 답게"
   ]
  },
  {
   "cell_type": "markdown",
   "metadata": {},
   "source": [
    "## Part 1 "
   ]
  },
  {
   "cell_type": "code",
   "execution_count": null,
   "metadata": {},
   "outputs": [],
   "source": [
    "# 내풀이\n",
    "def solution(mylist):\n",
    "    answer=[len(mylist[i]) for i in range(len(mylist))]\n",
    "    return answer\n",
    "\n",
    "# 정답\n",
    "def solution(mylist):\n",
    "    return list(map(len,mylist))"
   ]
  },
  {
   "cell_type": "markdown",
   "metadata": {},
   "source": [
    "이런식으로 깔끔하게 풀어야 한다! \n",
    "\n",
    "내 방법은 c 언어에서 이용되는것 => 파이썬의 간단함을 이점으로 이용할려면 정답처럼 풀어야함"
   ]
  },
  {
   "cell_type": "markdown",
   "metadata": {},
   "source": [
    "## Part 2 정수 다루기"
   ]
  },
  {
   "cell_type": "markdown",
   "metadata": {},
   "source": [
    "+ Divmod"
   ]
  },
  {
   "cell_type": "code",
   "execution_count": 2,
   "metadata": {},
   "outputs": [
    {
     "name": "stdout",
     "output_type": "stream",
     "text": [
      "1 1\n",
      "1 1\n"
     ]
    }
   ],
   "source": [
    "a,b=5,4\n",
    "print(a//b,a%b)\n",
    "print(*divmod(a,b))"
   ]
  },
  {
   "cell_type": "markdown",
   "metadata": {},
   "source": [
    "작은 숫자를 다룰때는 //(몫) 또는 %(나머지) 가 더 좋을 수 도 있지만 큰 숫자의 경우 divmod 활용이 더 빠르다"
   ]
  },
  {
   "cell_type": "markdown",
   "metadata": {},
   "source": [
    "+ n 진법으로 표기된 string을 10진법으로 표시하기 (int(num,base))"
   ]
  },
  {
   "cell_type": "code",
   "execution_count": 3,
   "metadata": {},
   "outputs": [
    {
     "name": "stdout",
     "output_type": "stream",
     "text": [
      "211 5\n",
      "56\n"
     ]
    }
   ],
   "source": [
    "# 나의 풀이법\n",
    "num, base = map(int, input().strip().split(' '))\n",
    "sum=0\n",
    "for i,j in enumerate(list(str(num))[::-1]):\n",
    "    sum+=int(j)*(base**i)\n",
    "print(sum)"
   ]
  },
  {
   "cell_type": "code",
   "execution_count": 4,
   "metadata": {},
   "outputs": [
    {
     "name": "stdout",
     "output_type": "stream",
     "text": [
      "56\n",
      "211 5\n",
      "56\n"
     ]
    }
   ],
   "source": [
    "# python 정석 풀이법\n",
    "print(int('211',5))\n",
    "num,base=map(int,input().strip().split(' '))\n",
    "sum=int(str(num),base)\n",
    "print(sum)"
   ]
  },
  {
   "cell_type": "markdown",
   "metadata": {},
   "source": [
    "파이썬의 int(x, base = 10) 함수는 진법 변환을 지원함"
   ]
  },
  {
   "cell_type": "markdown",
   "metadata": {},
   "source": [
    "+ tip : input 받을때 strip으로 혹시 모를 앞이나 마지막의 띄어쓰기 또는 \\n 등을 없애주기 ex) a,b = map(int,input().strip().split(' '))\n",
    "\n",
    "\n",
    "+ tip : list 나 튜플 print로 반환할때 * 앞에 쓰면 [],() 없어짐! => Unpacking"
   ]
  },
  {
   "cell_type": "markdown",
   "metadata": {},
   "source": [
    "## Part 3 STR 다루기"
   ]
  },
  {
   "cell_type": "markdown",
   "metadata": {},
   "source": [
    "+ 문자열 정렬하기 (내장함수 str 함수 이용하기)"
   ]
  },
  {
   "cell_type": "code",
   "execution_count": 17,
   "metadata": {},
   "outputs": [
    {
     "name": "stdout",
     "output_type": "stream",
     "text": [
      "abc 7\n",
      "abc    \n",
      "  abc  \n",
      "    abc\n"
     ]
    }
   ],
   "source": [
    "# 내 풀이법\n",
    "s, n = input().strip().split(' ')\n",
    "n = int(n)\n",
    "print(s+' '*(n-len(s)))\n",
    "print(' '*((n-len(s))//2)+s+' '*((n-len(s))//2))\n",
    "print(' '*(n-len(s))+s)"
   ]
  },
  {
   "cell_type": "code",
   "execution_count": 18,
   "metadata": {},
   "outputs": [
    {
     "name": "stdout",
     "output_type": "stream",
     "text": [
      "abc 7\n",
      "abc    \n",
      "  abc  \n",
      "    abc\n"
     ]
    }
   ],
   "source": [
    "# 정석 풀이법\n",
    "s, n = input().strip().split(' ')\n",
    "n = int(n)\n",
    "print(s.ljust(n)) # 좌측 정렬\n",
    "print(s.center(n)) # 중앙 정렬\n",
    "print(s.rjust(n)) # 우측 정렬"
   ]
  },
  {
   "cell_type": "markdown",
   "metadata": {},
   "source": [
    "파이썬에서는 ljust, center, rjust와 같은 string의 메소드를 사용해 코드를 획기적으로 줄일 수 있음"
   ]
  },
  {
   "cell_type": "markdown",
   "metadata": {},
   "source": [
    "+ 알파벳 출력하기 (string 모듈 이용하기)"
   ]
  },
  {
   "cell_type": "code",
   "execution_count": 24,
   "metadata": {},
   "outputs": [
    {
     "name": "stdout",
     "output_type": "stream",
     "text": [
      "0\n",
      "abcdefghijklmnopqrstuvwxyz\n"
     ]
    }
   ],
   "source": [
    "# 내풀이법\n",
    "num = int(input().strip())\n",
    "if num:\n",
    "    print('abcdefghijklmnopqrstuvwxyz'.upper())\n",
    "else:\n",
    "    print('abcdefghijklmnopqrstuvwxyz'.lower())"
   ]
  },
  {
   "cell_type": "code",
   "execution_count": 29,
   "metadata": {},
   "outputs": [
    {
     "name": "stdout",
     "output_type": "stream",
     "text": [
      "1\n",
      "ABCDEFGHIJKLMNOPQRSTUVWXYZ\n",
      "abcdefghijklmnopqrstuvwxyzABCDEFGHIJKLMNOPQRSTUVWXYZ\n",
      "0123456789\n",
      "<function capwords at 0x000002BB3149BC80>\n"
     ]
    }
   ],
   "source": [
    "# 정석 풀이법\n",
    "import string\n",
    "num = int(input().strip())\n",
    "if num:\n",
    "    print(string.ascii_uppercase) # 알파벳 소문자 출력\n",
    "else:\n",
    "    print(string.ascii_lowercase) # 알파벳 대문자 출력\n",
    "print(string.ascii_letters) # 알파벳 소문자~대문자 다 출력\n",
    "print(string.digits) # 숫자 출력 (0~9)"
   ]
  },
  {
   "cell_type": "markdown",
   "metadata": {},
   "source": [
    "## Part4 Iterable 다루기"
   ]
  },
  {
   "cell_type": "markdown",
   "metadata": {},
   "source": [
    "+ 원본을 유지한채, 정렬된 리스트 구하기 - sorted"
   ]
  },
  {
   "cell_type": "code",
   "execution_count": 30,
   "metadata": {},
   "outputs": [
    {
     "name": "stdout",
     "output_type": "stream",
     "text": [
      "[1, 2, 3]\n"
     ]
    }
   ],
   "source": [
    "# sort 로는 원본 유지가 안됨\n",
    "x=[3,1,2]\n",
    "x.sort()\n",
    "print(x)"
   ]
  },
  {
   "cell_type": "code",
   "execution_count": 33,
   "metadata": {},
   "outputs": [
    {
     "name": "stdout",
     "output_type": "stream",
     "text": [
      "[3, 1, 2]\n",
      "[1, 2, 3]\n"
     ]
    }
   ],
   "source": [
    "# 원본을 유지하면서 정렬된 리스트를 구하기 위해선 sorted 이용\n",
    "x=[3,1,2]\n",
    "x_1=sorted(x)\n",
    "print(x)\n",
    "print(x_1)"
   ]
  },
  {
   "cell_type": "markdown",
   "metadata": {},
   "source": [
    "+ 2차원 리스트 뒤집기"
   ]
  },
  {
   "cell_type": "code",
   "execution_count": 46,
   "metadata": {},
   "outputs": [
    {
     "data": {
      "text/plain": [
       "[[1, 2], [2, 3]]"
      ]
     },
     "execution_count": 46,
     "metadata": {},
     "output_type": "execute_result"
    }
   ],
   "source": [
    "# 내풀이법 \n",
    "\n",
    "def solution(mylist):\n",
    "    answer=[[] for i in range(len(mylist))]\n",
    "    for i in range(len(mylist)) :\n",
    "        for j in range(len(mylist[i])):\n",
    "            answer[j].append(mylist[i][j])\n",
    "    return answer\n",
    "solution([[1,2],[2,3]])"
   ]
  },
  {
   "cell_type": "code",
   "execution_count": 49,
   "metadata": {},
   "outputs": [
    {
     "data": {
      "text/plain": [
       "[[1, 4], [2, 5]]"
      ]
     },
     "execution_count": 49,
     "metadata": {},
     "output_type": "execute_result"
    }
   ],
   "source": [
    "# 정석 풀이법\n",
    "\n",
    "def solution(mylist):\n",
    "    answer=list(map(list,zip(*mylist)))\n",
    "    return answer\n",
    "solution([[1,2],[4,5]])"
   ]
  },
  {
   "cell_type": "markdown",
   "metadata": {},
   "source": [
    "zip은 iterables 의 요소들을 모으는 이터레이터를 만듬\n",
    "\n",
    "튜플의 이터레이터를 돌려주는데, i 번째 튜플은 각 인자로 전달된 시퀀스나 이터러블의 i 번째 요소를 포함"
   ]
  },
  {
   "cell_type": "code",
   "execution_count": 55,
   "metadata": {},
   "outputs": [
    {
     "name": "stdout",
     "output_type": "stream",
     "text": [
      "(1, 100)\n",
      "(2, 200)\n",
      "(3, 300)\n"
     ]
    }
   ],
   "source": [
    "mylist=[1,2,3]\n",
    "new_list=[100,200,300]\n",
    "for i in zip(mylist,new_list):\n",
    "    print(i)"
   ]
  },
  {
   "cell_type": "code",
   "execution_count": 56,
   "metadata": {},
   "outputs": [
    {
     "name": "stdout",
     "output_type": "stream",
     "text": [
      "111\n",
      "222\n",
      "333\n"
     ]
    }
   ],
   "source": [
    "list1=[1,2,3]\n",
    "list2=[10,20,30]\n",
    "list3=[100,200,300]\n",
    "for i,j,k in zip(list1,list2,list3): # zip이 튜플로 반환하기 때문에 튜플의 특징인 packing 가능! \n",
    "    print(i+j+k)"
   ]
  },
  {
   "cell_type": "code",
   "execution_count": 57,
   "metadata": {},
   "outputs": [
    {
     "name": "stdout",
     "output_type": "stream",
     "text": [
      "{'cat': 'meow', 'cow': 'umme', 'dog': 'wal'}\n"
     ]
    }
   ],
   "source": [
    "animals=['cat','cow','dog']\n",
    "sounds=['meow','umme','wal']\n",
    "animal_sound=dict(zip(animals,sounds))\n",
    "print(animal_sound)"
   ]
  },
  {
   "cell_type": "markdown",
   "metadata": {},
   "source": [
    "+ 모든멤버의 타입 변환하기"
   ]
  },
  {
   "cell_type": "code",
   "execution_count": 61,
   "metadata": {},
   "outputs": [
    {
     "data": {
      "text/plain": [
       "[1, 2, 3]"
      ]
     },
     "execution_count": 61,
     "metadata": {},
     "output_type": "execute_result"
    }
   ],
   "source": [
    "# 내 답안\n",
    "def solution(mylist):\n",
    "    answer = list(map(int,mylist))\n",
    "    return answer\n",
    "solution(['1','2','3'])"
   ]
  },
  {
   "cell_type": "markdown",
   "metadata": {},
   "source": [
    "## Part5 Sequence Types 다루기"
   ]
  },
  {
   "cell_type": "markdown",
   "metadata": {},
   "source": [
    "+ Sequence 멤버를 하나로 이어 붙이기"
   ]
  },
  {
   "cell_type": "code",
   "execution_count": 62,
   "metadata": {},
   "outputs": [
    {
     "data": {
      "text/plain": [
       "'132123'"
      ]
     },
     "execution_count": 62,
     "metadata": {},
     "output_type": "execute_result"
    }
   ],
   "source": [
    "# 내 답안\n",
    "def solution(mylist):\n",
    "    answer = ''\n",
    "    for i in mylist:\n",
    "        answer+=i\n",
    "    return answer\n",
    "solution(['1','32','123'])"
   ]
  },
  {
   "cell_type": "code",
   "execution_count": 63,
   "metadata": {},
   "outputs": [
    {
     "data": {
      "text/plain": [
       "'122333'"
      ]
     },
     "execution_count": 63,
     "metadata": {},
     "output_type": "execute_result"
    }
   ],
   "source": [
    "# 정석 답안\n",
    "def solution(mylist):\n",
    "    answer=''.join(mylist)\n",
    "    return answer\n",
    "solution(['1','22','333'])"
   ]
  },
  {
   "cell_type": "markdown",
   "metadata": {},
   "source": [
    "join을 이용하면 list 안의 문자열 다 합치기 가능"
   ]
  },
  {
   "cell_type": "markdown",
   "metadata": {},
   "source": [
    "+ 삼각형 별찍기"
   ]
  },
  {
   "cell_type": "code",
   "execution_count": 64,
   "metadata": {},
   "outputs": [
    {
     "name": "stdout",
     "output_type": "stream",
     "text": [
      "*\n",
      "**\n",
      "***\n"
     ]
    }
   ],
   "source": [
    "# 내 답안\n",
    "n=3\n",
    "x=[print('*'*(i+1)) for i in range(n)]"
   ]
  },
  {
   "cell_type": "markdown",
   "metadata": {},
   "source": [
    "## Part6 Itertools / Collections 모듈 "
   ]
  },
  {
   "cell_type": "markdown",
   "metadata": {},
   "source": [
    "+ 곱집합 구하기 - Product"
   ]
  },
  {
   "cell_type": "code",
   "execution_count": 110,
   "metadata": {
    "scrolled": true
   },
   "outputs": [
    {
     "name": "stdout",
     "output_type": "stream",
     "text": [
      "Ax1\n",
      "Ax2\n",
      "Ax3\n",
      "Ay1\n",
      "Ay2\n",
      "Ay3\n",
      "Bx1\n",
      "Bx2\n",
      "Bx3\n",
      "By1\n",
      "By2\n",
      "By3\n",
      "Cx1\n",
      "Cx2\n",
      "Cx3\n",
      "Cy1\n",
      "Cy2\n",
      "Cy3\n",
      "Dx1\n",
      "Dx2\n",
      "Dx3\n",
      "Dy1\n",
      "Dy2\n",
      "Dy3\n"
     ]
    }
   ],
   "source": [
    "import itertools\n",
    "a_1='ABCD'\n",
    "a_2='xy'\n",
    "a_3='123'\n",
    "for i,j,k in itertools.product(a_1,a_2,a_3):\n",
    "    print(i+j+k)"
   ]
  },
  {
   "cell_type": "code",
   "execution_count": 114,
   "metadata": {},
   "outputs": [
    {
     "data": {
      "text/plain": [
       "['Ax1',\n",
       " 'Ax2',\n",
       " 'Ax3',\n",
       " 'Ay1',\n",
       " 'Ay2',\n",
       " 'Ay3',\n",
       " 'Bx1',\n",
       " 'Bx2',\n",
       " 'Bx3',\n",
       " 'By1',\n",
       " 'By2',\n",
       " 'By3',\n",
       " 'Cx1',\n",
       " 'Cx2',\n",
       " 'Cx3',\n",
       " 'Cy1',\n",
       " 'Cy2',\n",
       " 'Cy3',\n",
       " 'Dx1',\n",
       " 'Dx2',\n",
       " 'Dx3',\n",
       " 'Dy1',\n",
       " 'Dy2',\n",
       " 'Dy3']"
      ]
     },
     "execution_count": 114,
     "metadata": {},
     "output_type": "execute_result"
    }
   ],
   "source": [
    "list(map(''.join,itertools.product(a_1,a_2,a_3)))"
   ]
  },
  {
   "cell_type": "markdown",
   "metadata": {},
   "source": [
    "+ 2차원 리스트를 1차원으로 만들기"
   ]
  },
  {
   "cell_type": "code",
   "execution_count": 83,
   "metadata": {},
   "outputs": [
    {
     "data": {
      "text/plain": [
       "[1, 2]"
      ]
     },
     "execution_count": 83,
     "metadata": {},
     "output_type": "execute_result"
    }
   ],
   "source": [
    "# 내 답안\n",
    "def solution(mylist):\n",
    "    answer=[]\n",
    "    for i in mylist:\n",
    "        for j in i:\n",
    "            answer.append(j)\n",
    "    return answer\n",
    "solution([[1],[2]])"
   ]
  },
  {
   "cell_type": "code",
   "execution_count": 100,
   "metadata": {},
   "outputs": [
    {
     "name": "stdout",
     "output_type": "stream",
     "text": [
      "[1, 2, 3, 4, 5, 6]\n",
      "[1, 2, 3, 4, 5, 6]\n"
     ]
    },
    {
     "data": {
      "text/plain": [
       "[1, 2, 3, 4, 5, 6]"
      ]
     },
     "execution_count": 100,
     "metadata": {},
     "output_type": "execute_result"
    }
   ],
   "source": [
    "# 정답\n",
    "my_list=[[1, 2],[3, 4],[5, 6]]\n",
    "## 1번 풀이법\n",
    "import itertools\n",
    "print(list(itertools.chain(*my_list)))\n",
    "## 2번 풀이법\n",
    "answer=[]\n",
    "for item in my_list:\n",
    "        answer.extend(item) # append 는 한 원소만 수용가능 / but extend는 여러개 수용가능 또는 result+=item\n",
    "print(answer)\n",
    "## 3번 풀이법\n",
    "[j for i in my_list for j in i]"
   ]
  },
  {
   "cell_type": "markdown",
   "metadata": {},
   "source": [
    "for 문을 쓰지않고 리스트 이어 붙이기 가능"
   ]
  },
  {
   "cell_type": "markdown",
   "metadata": {},
   "source": [
    "+ 순열과 조합"
   ]
  },
  {
   "cell_type": "code",
   "execution_count": 176,
   "metadata": {},
   "outputs": [
    {
     "name": "stdout",
     "output_type": "stream",
     "text": [
      "<map object at 0x000002BB34E4E588>\n",
      "['10012', '10021', '11002', '12100', '21001', '21100']\n",
      "[[1, 0, 0, 1, 2], [1, 0, 0, 2, 1], [1, 1, 0, 0, 2], [1, 2, 1, 0, 0], [2, 1, 0, 0, 1], [2, 1, 1, 0, 0]]\n"
     ]
    }
   ],
   "source": [
    "# 정답\n",
    "import itertools\n",
    "a=[1,2,100]\n",
    "a=map(str,a)\n",
    "b=list(map(''.join,itertools.permutations(a)))\n",
    "b=sorted(b)\n",
    "print(b)\n",
    "x=[list(map(int,list(i))) for i in b]\n",
    "print(x)"
   ]
  },
  {
   "cell_type": "code",
   "execution_count": 173,
   "metadata": {},
   "outputs": [
    {
     "data": {
      "text/plain": [
       "[[1, 0, 0, 1, 2, 3],\n",
       " [1, 0, 0, 1, 3, 2],\n",
       " [1, 0, 0, 2, 1, 3],\n",
       " [1, 0, 0, 2, 3, 1],\n",
       " [1, 0, 0, 3, 1, 2],\n",
       " [1, 0, 0, 3, 2, 1],\n",
       " [1, 1, 0, 0, 2, 3],\n",
       " [1, 1, 0, 0, 3, 2],\n",
       " [1, 2, 1, 0, 0, 3],\n",
       " [1, 2, 3, 1, 0, 0],\n",
       " [1, 3, 1, 0, 0, 2],\n",
       " [1, 3, 2, 1, 0, 0],\n",
       " [2, 1, 0, 0, 1, 3],\n",
       " [2, 1, 0, 0, 3, 1],\n",
       " [2, 1, 1, 0, 0, 3],\n",
       " [2, 1, 3, 1, 0, 0],\n",
       " [2, 3, 1, 0, 0, 1],\n",
       " [2, 3, 1, 1, 0, 0],\n",
       " [3, 1, 0, 0, 1, 2],\n",
       " [3, 1, 0, 0, 2, 1],\n",
       " [3, 1, 1, 0, 0, 2],\n",
       " [3, 1, 2, 1, 0, 0],\n",
       " [3, 2, 1, 0, 0, 1],\n",
       " [3, 2, 1, 1, 0, 0]]"
      ]
     },
     "execution_count": 173,
     "metadata": {},
     "output_type": "execute_result"
    }
   ],
   "source": [
    "def solution(mylist):\n",
    "    mylist=list(map(str,mylist))\n",
    "    import itertools\n",
    "    a_1=list(map(''.join,itertools.permutations(mylist)))\n",
    "    b_1=sorted(a_1)\n",
    "    answer=[list(map(int,list(i))) for i in b_1]\n",
    "    return answer\n",
    "solution([1,2,3,100])"
   ]
  },
  {
   "cell_type": "code",
   "execution_count": null,
   "metadata": {},
   "outputs": [],
   "source": []
  },
  {
   "cell_type": "code",
   "execution_count": null,
   "metadata": {},
   "outputs": [],
   "source": []
  },
  {
   "cell_type": "code",
   "execution_count": null,
   "metadata": {},
   "outputs": [],
   "source": []
  },
  {
   "cell_type": "code",
   "execution_count": null,
   "metadata": {},
   "outputs": [],
   "source": []
  },
  {
   "cell_type": "markdown",
   "metadata": {},
   "source": [
    "## Part7 기타"
   ]
  },
  {
   "cell_type": "markdown",
   "metadata": {},
   "source": [
    "+ For문과 If문을 한번에"
   ]
  },
  {
   "cell_type": "code",
   "execution_count": 177,
   "metadata": {},
   "outputs": [
    {
     "data": {
      "text/plain": [
       "[4, 36]"
      ]
     },
     "execution_count": 177,
     "metadata": {},
     "output_type": "execute_result"
    }
   ],
   "source": [
    "# 내 풀이 == 정답\n",
    "def solution(mylist):\n",
    "    answer=[i**2 for i in mylist if i%2==0]\n",
    "    return answer\n",
    "solution([2,5,6,7])"
   ]
  },
  {
   "cell_type": "markdown",
   "metadata": {},
   "source": [
    "+ 두 변수 값 바꾸기"
   ]
  },
  {
   "cell_type": "code",
   "execution_count": 178,
   "metadata": {},
   "outputs": [
    {
     "name": "stdout",
     "output_type": "stream",
     "text": [
      "3 2\n"
     ]
    }
   ],
   "source": [
    "a,b=2,3\n",
    "a,b=b,a\n",
    "print(a,b)"
   ]
  },
  {
   "cell_type": "markdown",
   "metadata": {},
   "source": [
    "+ 이진탐색 알고리즘"
   ]
  },
  {
   "cell_type": "code",
   "execution_count": 186,
   "metadata": {},
   "outputs": [
    {
     "name": "stdout",
     "output_type": "stream",
     "text": [
      "3\n"
     ]
    }
   ],
   "source": [
    "import bisect\n",
    "mylist = [1, 2, 3, 7, 9, 11, 33]\n",
    "print(bisect.bisect(mylist, 3))"
   ]
  },
  {
   "cell_type": "markdown",
   "metadata": {},
   "source": [
    "+ 아주 큰 수를 할당해야할때"
   ]
  },
  {
   "cell_type": "code",
   "execution_count": 187,
   "metadata": {},
   "outputs": [
    {
     "data": {
      "text/plain": [
       "True"
      ]
     },
     "execution_count": 187,
     "metadata": {},
     "output_type": "execute_result"
    }
   ],
   "source": [
    "a=float('inf')\n",
    "a>100000000"
   ]
  },
  {
   "cell_type": "code",
   "execution_count": 191,
   "metadata": {},
   "outputs": [
    {
     "data": {
      "text/plain": [
       "True"
      ]
     },
     "execution_count": 191,
     "metadata": {},
     "output_type": "execute_result"
    }
   ],
   "source": [
    "a=-float('inf')\n",
    "a<-10000000"
   ]
  }
 ],
 "metadata": {
  "kernelspec": {
   "display_name": "Python 3",
   "language": "python",
   "name": "python3"
  },
  "language_info": {
   "codemirror_mode": {
    "name": "ipython",
    "version": 3
   },
   "file_extension": ".py",
   "mimetype": "text/x-python",
   "name": "python",
   "nbconvert_exporter": "python",
   "pygments_lexer": "ipython3",
   "version": "3.7.3"
  }
 },
 "nbformat": 4,
 "nbformat_minor": 2
}
