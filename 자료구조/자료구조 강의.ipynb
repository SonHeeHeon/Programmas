{
 "cells": [
  {
   "cell_type": "markdown",
   "metadata": {},
   "source": [
    "# 자료구조 강의"
   ]
  },
  {
   "cell_type": "markdown",
   "metadata": {},
   "source": [
    "## 1강"
   ]
  },
  {
   "cell_type": "code",
   "execution_count": 5,
   "metadata": {},
   "outputs": [
    {
     "name": "stdout",
     "output_type": "stream",
     "text": [
      "numbers of elements: 10000000\n",
      "0.21162128448486328\n"
     ]
    }
   ],
   "source": [
    "import time\n",
    "n=int(input('numbers of elements: '))\n",
    "haystack=[k for k in range(n)]\n",
    "ts=time.time()\n",
    "maximum=max(haystack)\n",
    "elapsed=time.time()-ts\n",
    "print(elapsed)"
   ]
  },
  {
   "cell_type": "markdown",
   "metadata": {},
   "source": [
    "+ max 값을 찾을려면 모든 값을 다 비교해야하므로 수가 커질수록 오래걸림 => 효율적인 방법이 필요! => 자료구조"
   ]
  },
  {
   "cell_type": "markdown",
   "metadata": {},
   "source": [
    "+ 해결하고자 하는 문제에 따라 최적의 해법이 다름 => 이를 위해 자료구조를 알아야 함"
   ]
  },
  {
   "cell_type": "markdown",
   "metadata": {},
   "source": [
    "## 2강 선형 배열"
   ]
  },
  {
   "cell_type": "code",
   "execution_count": 12,
   "metadata": {},
   "outputs": [
    {
     "data": {
      "text/plain": [
       "['1', '2', '3', '4', '5']"
      ]
     },
     "execution_count": 12,
     "metadata": {},
     "output_type": "execute_result"
    }
   ],
   "source": [
    "x=['1','2','3','4','5']\n",
    "x.append('a') # 맨끝에 추가됨\n",
    "x.pop() # 맨끝에거 삭제함\n",
    "x"
   ]
  },
  {
   "cell_type": "markdown",
   "metadata": {},
   "source": [
    "+ append랑 pop은 리스트 길이에 상관없이 맨끝에 추가 및 삭제되는 함수이기에 시간이 일정함(짧음)\n",
    "\n",
    "   => 수행시간 : O(1) "
   ]
  },
  {
   "cell_type": "code",
   "execution_count": null,
   "metadata": {},
   "outputs": [],
   "source": [
    "x.insert(3,'6') # 특정 인덱스에 추가함 (삽입)\n",
    "del(x[3])"
   ]
  },
  {
   "cell_type": "markdown",
   "metadata": {},
   "source": [
    "+ 이 함수들은 앞으로 또는 뒤로 한칸씩 리스트를 전체적으로 옮겨야 하므로 리스트 길이에 비례 (선형 시간)\n",
    "\n",
    "   => O(n-i)"
   ]
  },
  {
   "cell_type": "markdown",
   "metadata": {},
   "source": [
    "pop도 index를 줄 수 있음 => x.pop(2) 하지만 이러면 pop도 O(n-i) 만큼 시간이 듬"
   ]
  },
  {
   "cell_type": "code",
   "execution_count": 14,
   "metadata": {},
   "outputs": [
    {
     "data": {
      "text/plain": [
       "2"
      ]
     },
     "execution_count": 14,
     "metadata": {},
     "output_type": "execute_result"
    }
   ],
   "source": [
    "# + 원소 탐색하기\n",
    "x.index('3') # 리스트에서 특정 값 위치 찾기 "
   ]
  },
  {
   "cell_type": "code",
   "execution_count": 15,
   "metadata": {},
   "outputs": [
    {
     "data": {
      "text/plain": [
       "['1', '2', '4', '5']"
      ]
     },
     "execution_count": 15,
     "metadata": {},
     "output_type": "execute_result"
    }
   ],
   "source": [
    "# + 원소로 지우기\n",
    "x.remove('3') # 리스트에서 특정 값 지우기\n",
    "x"
   ]
  },
  {
   "cell_type": "markdown",
   "metadata": {},
   "source": [
    "+ remove는 O(n)만큼 시간이 든다"
   ]
  },
  {
   "cell_type": "markdown",
   "metadata": {},
   "source": [
    "### 연습문제"
   ]
  },
  {
   "cell_type": "code",
   "execution_count": 1,
   "metadata": {},
   "outputs": [],
   "source": [
    "def solution(L, x):\n",
    "    answer=[]\n",
    "    z=0\n",
    "    while (x in L[z:]):\n",
    "        z=L[z:].index(x)+z\n",
    "        answer.append(z)\n",
    "        z+=1\n",
    "    if answer==[]:\n",
    "        answer.append(-1)\n",
    "    return answer"
   ]
  },
  {
   "cell_type": "markdown",
   "metadata": {},
   "source": [
    "## 3강 정렬 및 탐색"
   ]
  },
  {
   "cell_type": "markdown",
   "metadata": {},
   "source": [
    "##### - 1. 정렬"
   ]
  },
  {
   "cell_type": "markdown",
   "metadata": {},
   "source": [
    "문자열 정렬 할때 문자열 길이로 정렬 안됨 => 앞단어 부터 사전순서에 따라 정렬됨"
   ]
  },
  {
   "cell_type": "markdown",
   "metadata": {},
   "source": [
    "+ 문자열 길이로 정렬하고 싶다면 sorted의 key를 이용"
   ]
  },
  {
   "cell_type": "code",
   "execution_count": 3,
   "metadata": {},
   "outputs": [
    {
     "data": {
      "text/plain": [
       "['c', 'de', 'ab']"
      ]
     },
     "execution_count": 3,
     "metadata": {},
     "output_type": "execute_result"
    }
   ],
   "source": [
    "x=['de','c','ab']\n",
    "x_1=sorted(x,key=lambda y: len(y))\n",
    "x_1"
   ]
  },
  {
   "cell_type": "markdown",
   "metadata": {},
   "source": [
    "+ 딕셔너리에서 키로 sort를 하고 싶다면"
   ]
  },
  {
   "cell_type": "code",
   "execution_count": 5,
   "metadata": {},
   "outputs": [
    {
     "data": {
      "text/plain": [
       "[{'name': 'John', 'score': 95}, {'name': 'Sera', 'score': 97}]"
      ]
     },
     "execution_count": 5,
     "metadata": {},
     "output_type": "execute_result"
    }
   ],
   "source": [
    "x_1=[{'name':'John','score':95},{'name':'Sera','score':97}]\n",
    "x_1.sort(key=lambda y: y['name'])\n",
    "x_1"
   ]
  },
  {
   "cell_type": "code",
   "execution_count": 6,
   "metadata": {},
   "outputs": [
    {
     "data": {
      "text/plain": [
       "[{'name': 'Sera', 'score': 97}, {'name': 'John', 'score': 95}]"
      ]
     },
     "execution_count": 6,
     "metadata": {},
     "output_type": "execute_result"
    }
   ],
   "source": [
    "x_1=[{'name':'John','score':95},{'name':'Sera','score':97}]\n",
    "x_1.sort(key=lambda y: y['score'],reverse=True)\n",
    "x_1"
   ]
  },
  {
   "cell_type": "markdown",
   "metadata": {},
   "source": [
    "##### -2. 탐색"
   ]
  },
  {
   "cell_type": "markdown",
   "metadata": {},
   "source": [
    "+ 선형탐색"
   ]
  },
  {
   "cell_type": "markdown",
   "metadata": {},
   "source": [
    "특정 문자 및 숫자를 찾을때 리스트를 처음부터 하나하나 비교해가면서 찾는게 선형탐색\n",
    "\n",
    "정렬이 되어 있어도 똑같이 탐색함\n",
    "\n",
    "모두 비교해봐야 하므로 오래 걸림!! => O(n) (리스트 길이에 비례)"
   ]
  },
  {
   "cell_type": "markdown",
   "metadata": {},
   "source": [
    "+ 이진탐색"
   ]
  },
  {
   "cell_type": "markdown",
   "metadata": {},
   "source": [
    "탐색하려는 리스트가 이미 정렬되어있는 경우에만 적용가능 => 크기순으로 정렬되어있는것을 이용"
   ]
  },
  {
   "cell_type": "markdown",
   "metadata": {},
   "source": [
    "리스트의 중간위치값을 비교해보고 특정값이 중간값보다 작으면 중간보다 작은값들로 다시 중간값 비교 / 중간값보다 크면 중간보다 큰값들로 다시 중간값 비교\n",
    "\n",
    "=> 한번 비교가 일어날때마다 리스트를 절반씩 줄임 => O(log n)"
   ]
  },
  {
   "cell_type": "code",
   "execution_count": 10,
   "metadata": {},
   "outputs": [
    {
     "name": "stdout",
     "output_type": "stream",
     "text": [
      "1\n"
     ]
    }
   ],
   "source": [
    "L=['ascd','bedc','bdsx','bges','bedda','cvefe']\n",
    "L.sort()\n",
    "lower=0\n",
    "upper=len(L)-1\n",
    "idx=-1\n",
    "target='bdsx'\n",
    "while lower<=upper:\n",
    "    middle=(lower+upper)//2\n",
    "    if L[middle]==target:\n",
    "        idx=middle\n",
    "        break\n",
    "    elif L[middle]<target:\n",
    "        lower=middle+1\n",
    "    else:\n",
    "        upper=middle-1\n",
    "print(idx)"
   ]
  },
  {
   "cell_type": "markdown",
   "metadata": {},
   "source": [
    "## 4강. 재귀 알고리즘 기초"
   ]
  },
  {
   "cell_type": "code",
   "execution_count": null,
   "metadata": {},
   "outputs": [],
   "source": []
  }
 ],
 "metadata": {
  "kernelspec": {
   "display_name": "Python 3",
   "language": "python",
   "name": "python3"
  },
  "language_info": {
   "codemirror_mode": {
    "name": "ipython",
    "version": 3
   },
   "file_extension": ".py",
   "mimetype": "text/x-python",
   "name": "python",
   "nbconvert_exporter": "python",
   "pygments_lexer": "ipython3",
   "version": "3.7.3"
  }
 },
 "nbformat": 4,
 "nbformat_minor": 2
}
