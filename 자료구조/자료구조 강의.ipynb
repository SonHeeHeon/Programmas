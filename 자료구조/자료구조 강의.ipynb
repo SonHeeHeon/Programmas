{
 "cells": [
  {
   "cell_type": "code",
   "execution_count": null,
   "metadata": {},
   "outputs": [],
   "source": [
    "# 추가 팁\n",
    "# sorted([5, 2, 4, 1, 3], key=cmp_to_key(function~))\n",
    "# cmp_to_key를 이용하면 fucntion을 이용해서 list를 내맘대로 정렬할 수 잇음"
   ]
  },
  {
   "cell_type": "markdown",
   "metadata": {},
   "source": [
    "# 자료구조 강의"
   ]
  },
  {
   "cell_type": "markdown",
   "metadata": {},
   "source": [
    "## 1강"
   ]
  },
  {
   "cell_type": "code",
   "execution_count": 5,
   "metadata": {},
   "outputs": [
    {
     "name": "stdout",
     "output_type": "stream",
     "text": [
      "numbers of elements: 10000000\n",
      "0.21162128448486328\n"
     ]
    }
   ],
   "source": [
    "import time\n",
    "n=int(input('numbers of elements: '))\n",
    "haystack=[k for k in range(n)]\n",
    "ts=time.time()\n",
    "maximum=max(haystack)\n",
    "elapsed=time.time()-ts\n",
    "print(elapsed)"
   ]
  },
  {
   "cell_type": "markdown",
   "metadata": {},
   "source": [
    "+ max 값을 찾을려면 모든 값을 다 비교해야하므로 수가 커질수록 오래걸림 => 효율적인 방법이 필요! => 자료구조"
   ]
  },
  {
   "cell_type": "markdown",
   "metadata": {},
   "source": [
    "+ 해결하고자 하는 문제에 따라 최적의 해법이 다름 => 이를 위해 자료구조를 알아야 함"
   ]
  },
  {
   "cell_type": "markdown",
   "metadata": {},
   "source": [
    "## 2강 선형 배열"
   ]
  },
  {
   "cell_type": "code",
   "execution_count": 12,
   "metadata": {},
   "outputs": [
    {
     "data": {
      "text/plain": [
       "['1', '2', '3', '4', '5']"
      ]
     },
     "execution_count": 12,
     "metadata": {},
     "output_type": "execute_result"
    }
   ],
   "source": [
    "x=['1','2','3','4','5']\n",
    "x.append('a') # 맨끝에 추가됨\n",
    "x.pop() # 맨끝에거 삭제함\n",
    "x"
   ]
  },
  {
   "cell_type": "markdown",
   "metadata": {},
   "source": [
    "+ append랑 pop은 리스트 길이에 상관없이 맨끝에 추가 및 삭제되는 함수이기에 시간이 일정함(짧음)\n",
    "\n",
    "   => 수행시간 : O(1) "
   ]
  },
  {
   "cell_type": "code",
   "execution_count": null,
   "metadata": {},
   "outputs": [],
   "source": [
    "x.insert(3,'6') # 특정 인덱스에 추가함 (삽입)\n",
    "del(x[3])"
   ]
  },
  {
   "cell_type": "markdown",
   "metadata": {},
   "source": [
    "+ 이 함수들은 앞으로 또는 뒤로 한칸씩 리스트를 전체적으로 옮겨야 하므로 리스트 길이에 비례 (선형 시간)\n",
    "\n",
    "   => O(n-i)"
   ]
  },
  {
   "cell_type": "markdown",
   "metadata": {},
   "source": [
    "pop도 index를 줄 수 있음 => x.pop(2) 하지만 이러면 pop도 O(n-i) 만큼 시간이 듬"
   ]
  },
  {
   "cell_type": "code",
   "execution_count": 14,
   "metadata": {},
   "outputs": [
    {
     "data": {
      "text/plain": [
       "2"
      ]
     },
     "execution_count": 14,
     "metadata": {},
     "output_type": "execute_result"
    }
   ],
   "source": [
    "# + 원소 탐색하기\n",
    "x.index('3') # 리스트에서 특정 값 위치 찾기 "
   ]
  },
  {
   "cell_type": "code",
   "execution_count": 15,
   "metadata": {},
   "outputs": [
    {
     "data": {
      "text/plain": [
       "['1', '2', '4', '5']"
      ]
     },
     "execution_count": 15,
     "metadata": {},
     "output_type": "execute_result"
    }
   ],
   "source": [
    "# + 원소로 지우기\n",
    "x.remove('3') # 리스트에서 특정 값 지우기\n",
    "x"
   ]
  },
  {
   "cell_type": "markdown",
   "metadata": {},
   "source": [
    "+ remove는 O(n)만큼 시간이 든다"
   ]
  },
  {
   "cell_type": "markdown",
   "metadata": {},
   "source": [
    "##### 연습문제"
   ]
  },
  {
   "cell_type": "code",
   "execution_count": 1,
   "metadata": {},
   "outputs": [],
   "source": [
    "def solution(L, x):\n",
    "    answer=[]\n",
    "    z=0\n",
    "    while (x in L[z:]):\n",
    "        z=L[z:].index(x)+z\n",
    "        answer.append(z)\n",
    "        z+=1\n",
    "    if answer==[]:\n",
    "        answer.append(-1)\n",
    "    return answer"
   ]
  },
  {
   "cell_type": "markdown",
   "metadata": {},
   "source": [
    "## 3강 정렬 및 탐색"
   ]
  },
  {
   "cell_type": "markdown",
   "metadata": {},
   "source": [
    "##### - 1. 정렬"
   ]
  },
  {
   "cell_type": "markdown",
   "metadata": {},
   "source": [
    "문자열 정렬 할때 문자열 길이로 정렬 안됨 => 앞단어 부터 사전순서에 따라 정렬됨"
   ]
  },
  {
   "cell_type": "markdown",
   "metadata": {},
   "source": [
    "+ 문자열 길이로 정렬하고 싶다면 sorted의 key를 이용"
   ]
  },
  {
   "cell_type": "code",
   "execution_count": 3,
   "metadata": {},
   "outputs": [
    {
     "data": {
      "text/plain": [
       "['c', 'de', 'ab']"
      ]
     },
     "execution_count": 3,
     "metadata": {},
     "output_type": "execute_result"
    }
   ],
   "source": [
    "x=['de','c','ab']\n",
    "x_1=sorted(x,key=lambda y: len(y))\n",
    "x_1"
   ]
  },
  {
   "cell_type": "markdown",
   "metadata": {},
   "source": [
    "+ 딕셔너리에서 키로 sort를 하고 싶다면"
   ]
  },
  {
   "cell_type": "code",
   "execution_count": 5,
   "metadata": {},
   "outputs": [
    {
     "data": {
      "text/plain": [
       "[{'name': 'John', 'score': 95}, {'name': 'Sera', 'score': 97}]"
      ]
     },
     "execution_count": 5,
     "metadata": {},
     "output_type": "execute_result"
    }
   ],
   "source": [
    "x_1=[{'name':'John','score':95},{'name':'Sera','score':97}]\n",
    "x_1.sort(key=lambda y: y['name'])\n",
    "x_1"
   ]
  },
  {
   "cell_type": "code",
   "execution_count": 6,
   "metadata": {},
   "outputs": [
    {
     "data": {
      "text/plain": [
       "[{'name': 'Sera', 'score': 97}, {'name': 'John', 'score': 95}]"
      ]
     },
     "execution_count": 6,
     "metadata": {},
     "output_type": "execute_result"
    }
   ],
   "source": [
    "x_1=[{'name':'John','score':95},{'name':'Sera','score':97}]\n",
    "x_1.sort(key=lambda y: y['score'],reverse=True)\n",
    "x_1"
   ]
  },
  {
   "cell_type": "markdown",
   "metadata": {},
   "source": [
    "##### -2. 탐색"
   ]
  },
  {
   "cell_type": "markdown",
   "metadata": {},
   "source": [
    "+ 선형탐색"
   ]
  },
  {
   "cell_type": "markdown",
   "metadata": {},
   "source": [
    "특정 문자 및 숫자를 찾을때 리스트를 처음부터 하나하나 비교해가면서 찾는게 선형탐색\n",
    "\n",
    "정렬이 되어 있어도 똑같이 탐색함\n",
    "\n",
    "모두 비교해봐야 하므로 오래 걸림!! => O(n) (리스트 길이에 비례)"
   ]
  },
  {
   "cell_type": "markdown",
   "metadata": {},
   "source": [
    "+ 이진탐색"
   ]
  },
  {
   "cell_type": "markdown",
   "metadata": {},
   "source": [
    "탐색하려는 리스트가 이미 정렬되어있는 경우에만 적용가능 => 크기순으로 정렬되어있는것을 이용"
   ]
  },
  {
   "cell_type": "markdown",
   "metadata": {},
   "source": [
    "리스트의 중간위치값을 비교해보고 특정값이 중간값보다 작으면 중간보다 작은값들로 다시 중간값 비교 / 중간값보다 크면 중간보다 큰값들로 다시 중간값 비교\n",
    "\n",
    "=> 한번 비교가 일어날때마다 리스트를 절반씩 줄임 => O(log n)"
   ]
  },
  {
   "cell_type": "code",
   "execution_count": 10,
   "metadata": {},
   "outputs": [
    {
     "name": "stdout",
     "output_type": "stream",
     "text": [
      "1\n"
     ]
    }
   ],
   "source": [
    "L=['ascd','bedc','bdsx','bges','bedda','cvefe']\n",
    "L.sort()\n",
    "lower=0\n",
    "upper=len(L)-1\n",
    "idx=-1\n",
    "target='bdsx'\n",
    "while lower<=upper:\n",
    "    middle=(lower+upper)//2\n",
    "    if L[middle]==target:\n",
    "        idx=middle\n",
    "        break\n",
    "    elif L[middle]<target:\n",
    "        lower=middle+1\n",
    "    else:\n",
    "        upper=middle-1\n",
    "print(idx)"
   ]
  },
  {
   "cell_type": "markdown",
   "metadata": {},
   "source": [
    "## 4강. 재귀 알고리즘 기초"
   ]
  },
  {
   "cell_type": "markdown",
   "metadata": {},
   "source": [
    "재귀함수란? 하나의 함수에서 자신을 다시 호출하여 작업을 수행하는 것"
   ]
  },
  {
   "cell_type": "markdown",
   "metadata": {},
   "source": [
    "+ 1부터 n까지의 합을 재귀함수를 이용해 구하기"
   ]
  },
  {
   "cell_type": "code",
   "execution_count": 23,
   "metadata": {},
   "outputs": [
    {
     "data": {
      "text/plain": [
       "55"
      ]
     },
     "execution_count": 23,
     "metadata": {},
     "output_type": "execute_result"
    }
   ],
   "source": [
    "def sum_1(n):\n",
    "    if n<=1:\n",
    "        return n\n",
    "    else :\n",
    "        return n+sum_1(n-1)\n",
    "sum_1(10)"
   ]
  },
  {
   "cell_type": "markdown",
   "metadata": {},
   "source": [
    "재귀함수에선 종결조건이 매우 중요하다!"
   ]
  },
  {
   "cell_type": "markdown",
   "metadata": {},
   "source": [
    "재귀함수가 효율성이 좋다고 보긴 힘들다 (반복적 알고리즘보다 느림)\n",
    "\n",
    "But 이해하기 쉽고 직관적이다"
   ]
  },
  {
   "cell_type": "markdown",
   "metadata": {},
   "source": [
    "##### 연습문제"
   ]
  },
  {
   "cell_type": "code",
   "execution_count": 28,
   "metadata": {},
   "outputs": [],
   "source": [
    "# 피보나치 수열 1번풀이 (재귀)\n",
    "def solution(x):\n",
    "    a,b=0,1\n",
    "    if x==0:\n",
    "        return a\n",
    "    elif x==1:\n",
    "        return b\n",
    "    elif x>=2:\n",
    "        return solution(x-1)+solution(x-2)"
   ]
  },
  {
   "cell_type": "code",
   "execution_count": 30,
   "metadata": {},
   "outputs": [
    {
     "data": {
      "text/plain": [
       "5"
      ]
     },
     "execution_count": 30,
     "metadata": {},
     "output_type": "execute_result"
    }
   ],
   "source": [
    "# 피보나치 수열 2번풀이 (iterative)\n",
    "def solution(x):\n",
    "    a,b=0,1\n",
    "    c=0\n",
    "    while x>=2:\n",
    "        c=a+b\n",
    "        a=b\n",
    "        b=c\n",
    "        x-=1\n",
    "    if x==1:\n",
    "        return b\n",
    "    elif x==0:\n",
    "        return a\n",
    "    return c\n",
    "solution(5)"
   ]
  },
  {
   "cell_type": "markdown",
   "metadata": {},
   "source": [
    "## 5. 재귀 알고리즘 응용"
   ]
  },
  {
   "cell_type": "markdown",
   "metadata": {},
   "source": [
    "+ 조합의 수 계산"
   ]
  },
  {
   "cell_type": "markdown",
   "metadata": {},
   "source": [
    "문제 : n개의 서로 다른 원소에서 m개를 선택하는 경우의 수\n",
    "\n",
    "nCm=(n-1)Cm + (n-1)C(m-1) => 이 법칙을 이용해 재귀 알고리즘 이용"
   ]
  },
  {
   "cell_type": "code",
   "execution_count": 31,
   "metadata": {},
   "outputs": [
    {
     "data": {
      "text/plain": [
       "3"
      ]
     },
     "execution_count": 31,
     "metadata": {},
     "output_type": "execute_result"
    }
   ],
   "source": [
    "def combi(n,m):\n",
    "    if n==m:\n",
    "        return 1\n",
    "    elif m==0:\n",
    "        return 1\n",
    "    else:\n",
    "        return combi(n-1,m)+combi(n-1,m-1)\n",
    "combi(3,2)"
   ]
  },
  {
   "cell_type": "markdown",
   "metadata": {},
   "source": [
    "=> 반복문보다 효율이 떨어짐! 그럼 왜 이걸 쓸까?"
   ]
  },
  {
   "cell_type": "markdown",
   "metadata": {},
   "source": [
    "+ 하노이의 탑"
   ]
  },
  {
   "cell_type": "markdown",
   "metadata": {},
   "source": [
    "## 6. 알고리즘의 복잡도"
   ]
  },
  {
   "cell_type": "markdown",
   "metadata": {},
   "source": [
    "1. 시간 복잡도 : 문제의 크기와 이를 해결하는데 걸리는 시간 사이의 관계\n",
    "\n",
    "2. 공간 복잡도 : 문제의 크기와 이를 해결하는데 필요한 메모리 공간 사이의 관계"
   ]
  },
  {
   "cell_type": "markdown",
   "metadata": {},
   "source": [
    "시간 복잡도 : 1) 평균 시간 복잡도 : 임의의 입력시간을 가정했을때 소요되는 시간의 평균\n",
    "\n",
    "              2) 최악 시간 복잡도 : 경우의 수 중 가장 긴 시간을 소요하게 만드는 입력에 따라 소요되는 시간"
   ]
  },
  {
   "cell_type": "markdown",
   "metadata": {},
   "source": [
    "+ Big O Notation : 어떤 함수의 증가 양상을 다른 함수와의 비교로 표현(알고리즘의 복잡도를 표현할 때 흔히 쓰임) => 점근 표기법 중 하나\n",
    "\n",
    "   ex) O(logn),O(n),,"
   ]
  },
  {
   "cell_type": "markdown",
   "metadata": {},
   "source": [
    "+ 1) 선형 시간 알고리즘 - O(n)\n",
    "    \n",
    "    max 값을 찾을때 모든 리스트 요소들을 다 탐색해봐야함 => O(n)"
   ]
  },
  {
   "cell_type": "markdown",
   "metadata": {},
   "source": [
    "+ 2) 로그 시간 알고리즘 - O(logn)\n",
    "\n",
    "    n개의 크기순으로 정렬된 수에서 특정 값을 찾기 위해 이진 탐색 알고리즘 적용"
   ]
  },
  {
   "cell_type": "markdown",
   "metadata": {},
   "source": [
    "+ 3) 이차 시간 알고리즘 - O(n^2)\n",
    "    \n",
    "    ex) 삽입 정렬 => n 개의 리스트를 각각의 요소를 하나씩 넣으면서 정렬한다하면 n번의 시행동안 n번의 정렬이 이뤄짐 => 각 시행마다 n^2\n",
    "    \n",
    "    best case: O(n) => 전부 정렬이 이미 돼있다면 검사만 하므로 n\n",
    "    \n",
    "    worst case: O(n^2) => 정렬이 안돼있다면 검사+정렬 하므로 n^2"
   ]
  },
  {
   "cell_type": "markdown",
   "metadata": {},
   "source": [
    "보다 나은 정렬 알고리즘?\n",
    "\n",
    "병합 정렬 - O(nlogn) => 정렬에서 이보다 낮은 복잡도를 가지는 알고리즘은 불가능(수학적 증명)"
   ]
  }
 ],
 "metadata": {
  "kernelspec": {
   "display_name": "Python 3",
   "language": "python",
   "name": "python3"
  },
  "language_info": {
   "codemirror_mode": {
    "name": "ipython",
    "version": 3
   },
   "file_extension": ".py",
   "mimetype": "text/x-python",
   "name": "python",
   "nbconvert_exporter": "python",
   "pygments_lexer": "ipython3",
   "version": "3.7.3"
  }
 },
 "nbformat": 4,
 "nbformat_minor": 2
}
