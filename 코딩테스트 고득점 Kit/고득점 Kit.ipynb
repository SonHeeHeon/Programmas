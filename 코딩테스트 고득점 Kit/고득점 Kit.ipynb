{
 "cells": [
  {
   "cell_type": "markdown",
   "metadata": {},
   "source": [
    "## 1. 해쉬"
   ]
  },
  {
   "cell_type": "markdown",
   "metadata": {},
   "source": [
    "### 1번"
   ]
  },
  {
   "cell_type": "markdown",
   "metadata": {},
   "source": [
    "### 2번"
   ]
  },
  {
   "cell_type": "markdown",
   "metadata": {},
   "source": [
    "### 3번"
   ]
  },
  {
   "cell_type": "code",
   "execution_count": 71,
   "metadata": {},
   "outputs": [
    {
     "data": {
      "text/plain": [
       "11"
      ]
     },
     "execution_count": 71,
     "metadata": {},
     "output_type": "execute_result"
    }
   ],
   "source": [
    "# 내 첫번째 풀이 => combination은 시간이 많이 소비됨\n",
    "clothes=[['yellow_hat', 'headgear'], ['blue_sunglasses', 'eyewear'], ['green_turban', 'headgear'],['a','b']]\n",
    "answer=0\n",
    "clothes_sum={}\n",
    "for i in clothes:\n",
    "    clothes_sum.setdefault(i[1],[])\n",
    "    clothes_sum[i[1]].append(i[0])\n",
    "clothes_len=list(map(len,clothes_sum.values()))\n",
    "import itertools\n",
    "from functools import reduce\n",
    "answer+=sum(clothes_len)\n",
    "for i in range(2,len(clothes_len)+1):\n",
    "    x=list(itertools.combinations(map(str,clothes_len),i))\n",
    "    for i in x:\n",
    "        answer+=reduce(lambda a,b:a*b,map(int,i))\n",
    "answer"
   ]
  },
  {
   "cell_type": "code",
   "execution_count": null,
   "metadata": {},
   "outputs": [],
   "source": [
    "# 내 두번째 풀이\n",
    "def solution(clothes):\n",
    "    clothes_sum={}\n",
    "    for i in clothes:\n",
    "        clothes_sum.setdefault(i[1],[])\n",
    "        clothes_sum[i[1]].append(i[0])\n",
    "    clothes_len=list(map(len,clothes_sum.values()))\n",
    "    from functools import reduce\n",
    "    answer=reduce(lambda x,y: x*(y+1),clothes_len,1)-1\n",
    "    return answer"
   ]
  },
  {
   "cell_type": "markdown",
   "metadata": {},
   "source": [
    "+ (a,b,c) 각 요소를 다 곱하고 싶을땐 (a+1)(b+1)(c+1)-1 해주면됨 => 이건 reduce 이용"
   ]
  },
  {
   "cell_type": "code",
   "execution_count": null,
   "metadata": {},
   "outputs": [],
   "source": [
    "# 정답\n",
    "def solution(clothes):\n",
    "    from collections import Counter\n",
    "    from functools import reduce\n",
    "    cnt = Counter([kind for name, kind in clothes])\n",
    "    answer = reduce(lambda x, y: x*(y+1), cnt.values(), 1) - 1\n",
    "    return answer"
   ]
  },
  {
   "cell_type": "markdown",
   "metadata": {},
   "source": [
    "+ collections에 counter 중요!"
   ]
  },
  {
   "cell_type": "markdown",
   "metadata": {},
   "source": [
    "+ counter는 리스트에서 각 요소들의 갯수를 딕셔너리로 출력해줌 => but 딕셔너리지만 count라는 객체라서 뺄셈,덧셈 가능"
   ]
  },
  {
   "cell_type": "markdown",
   "metadata": {},
   "source": [
    "### 4번"
   ]
  },
  {
   "cell_type": "code",
   "execution_count": null,
   "metadata": {},
   "outputs": [],
   "source": [
    "# 첫번째 내 풀이 => 2개 실패\n",
    "def solution(genres, plays):\n",
    "    k={}\n",
    "    for i in zip(genres,plays):\n",
    "        k.setdefault(i[0],[])\n",
    "        k[i[0]].append(i[1])\n",
    "    top2_genre=sorted(k.items(),key=lambda x: sum(x[1]),reverse=True)\n",
    "    k_1=dict(top2_genre)\n",
    "    x=[sorted(i,reverse=True)[0:2] for i in k_1.values()]\n",
    "    import itertools\n",
    "    x_1=list(itertools.chain(*x))\n",
    "    answer=[j for i in x_1 for j,k in enumerate(plays) if i==k]\n",
    "    return answer"
   ]
  },
  {
   "cell_type": "code",
   "execution_count": 197,
   "metadata": {},
   "outputs": [
    {
     "name": "stdout",
     "output_type": "stream",
     "text": [
      "{'pop': [], 'classic': []}\n",
      "{'pop': [1, 4], 'classic': [0, 3]}\n"
     ]
    },
    {
     "data": {
      "text/plain": [
       "[1, 4, 0, 3]"
      ]
     },
     "execution_count": 197,
     "metadata": {},
     "output_type": "execute_result"
    }
   ],
   "source": [
    "# 두번째 내풀이 \n",
    "genres=['classic', 'pop', 'classic', 'classic', 'pop']\n",
    "plays=[500, 600, 150, 800, 2500]\n",
    "k={}\n",
    "for i in zip(genres,plays):\n",
    "    k.setdefault(i[0],[])\n",
    "    k[i[0]].append(i[1])\n",
    "top_genre=sorted(k.items(),key=lambda x: sum(x[1]),reverse=True)\n",
    "k_1=dict(top_genre)\n",
    "x={k:sorted(i,reverse=True)[0:2] for k,i in k_1.items()}\n",
    "k={}\n",
    "tsz={}\n",
    "for i in genres:\n",
    "    k.setdefault(i,[])\n",
    "for j in top_genre:\n",
    "    tsz.setdefault(j[0],[])\n",
    "print(tsz)\n",
    "for i,j in enumerate(zip(genres,plays)):\n",
    "    if j[1] in x[j[0]]:\n",
    "        if j[1] in k[j[0]]:\n",
    "            pass\n",
    "        else:\n",
    "            k[j[0]].append(j[1])\n",
    "            tsz[j[0]].append(i)\n",
    "print(tsz)\n",
    "import itertools\n",
    "answer=list(itertools.chain(*list(tsz.values())))\n",
    "answer"
   ]
  },
  {
   "cell_type": "markdown",
   "metadata": {},
   "source": [
    "## 2. 정렬"
   ]
  },
  {
   "cell_type": "markdown",
   "metadata": {},
   "source": [
    "### 1번"
   ]
  },
  {
   "cell_type": "code",
   "execution_count": 8,
   "metadata": {},
   "outputs": [
    {
     "data": {
      "text/plain": [
       "[5, 3]"
      ]
     },
     "execution_count": 8,
     "metadata": {},
     "output_type": "execute_result"
    }
   ],
   "source": [
    "# 내풀이\n",
    "def solution(array, commands):\n",
    "    answer = []\n",
    "    for i in commands:\n",
    "        array_1=array[(i[0]-1):(i[1])]\n",
    "        answer.append(sorted(array_1)[i[2]-1])\n",
    "    return answer\n",
    "solution([4,2,5,6,3,2,4],[[2,5,3],[1,5,2]])"
   ]
  },
  {
   "cell_type": "code",
   "execution_count": 15,
   "metadata": {},
   "outputs": [],
   "source": [
    "# 다른사람 풀이\n",
    "def solution(array, commands):\n",
    "    return list(map(lambda x:sorted(array[x[0]-1:x[1]])[x[2]-1], commands)) # Map과 lambda의 활용 중요!!\n",
    "solution([4,2,5,6,3,2,4],[[2,5,3],[1,5,2]])"
   ]
  },
  {
   "cell_type": "markdown",
   "metadata": {},
   "source": [
    "### 2번"
   ]
  },
  {
   "cell_type": "code",
   "execution_count": null,
   "metadata": {},
   "outputs": [],
   "source": [
    "def solution(numbers):\n",
    "    import itertools\n",
    "    itertools.permutations(list(map())\n",
    "    answer = ''\n",
    "    return answer"
   ]
  },
  {
   "cell_type": "code",
   "execution_count": null,
   "metadata": {},
   "outputs": [],
   "source": [
    "x=[1,4,5,8,10,11,21,62]\n",
    "z=[]\n",
    "for i in x:\n",
    "    if i<10:\n",
    "        z.append(i)\n",
    "    elif i<100:\n",
    "        z.append(i//10)\n",
    "    else:\n",
    "        z.append(i//100)\n",
    "x_1=sorted(x,key=lambda y: int(list(str(y))[0]),reverse=True)\n",
    "x_1"
   ]
  },
  {
   "cell_type": "code",
   "execution_count": 95,
   "metadata": {},
   "outputs": [
    {
     "data": {
      "text/plain": [
       "[8, 6, 5, 4, 2, 1, 1, 1]"
      ]
     },
     "execution_count": 95,
     "metadata": {},
     "output_type": "execute_result"
    }
   ],
   "source": [
    "number=[1,4,5,8,10,11,21,62]\n",
    "number_first=list(map(lambda i: int(list(str(i))[0]),number))\n",
    "num_f_sort=sorted(number_first,reverse=True)\n",
    "set(num_f_sort)\n"
   ]
  },
  {
   "cell_type": "code",
   "execution_count": 73,
   "metadata": {},
   "outputs": [
    {
     "data": {
      "text/plain": [
       "'9534330'"
      ]
     },
     "execution_count": 73,
     "metadata": {},
     "output_type": "execute_result"
    }
   ],
   "source": [
    "def solution(numbers):\n",
    "    import itertools\n",
    "    str_numbers=map(str,numbers)\n",
    "    combination=itertools.permutations(str_numbers)\n",
    "    comb_join=map(''.join,combination)\n",
    "    comb_int=map(int,comb_join)\n",
    "    answer=max(comb_int)\n",
    "    return str(answer)\n",
    "solution([3, 30, 34, 5, 9])"
   ]
  },
  {
   "cell_type": "markdown",
   "metadata": {},
   "source": [
    "### 3번"
   ]
  },
  {
   "cell_type": "code",
   "execution_count": 46,
   "metadata": {},
   "outputs": [
    {
     "data": {
      "text/plain": [
       "0"
      ]
     },
     "execution_count": 46,
     "metadata": {},
     "output_type": "execute_result"
    }
   ],
   "source": [
    "# 내풀이 1번\n",
    "def solution(citations):\n",
    "    n=len(citations)\n",
    "    citations_sort=sorted(citations)\n",
    "    for i,h in enumerate(citations_sort):\n",
    "        if (n-i)<h:\n",
    "            break\n",
    "    if i==0:\n",
    "        answer=n\n",
    "    else:\n",
    "        answer=max((n-i),citations_sort[i-1])\n",
    "    if h==0:\n",
    "        answer=0\n",
    "    return answer\n",
    "solution([0])"
   ]
  },
  {
   "cell_type": "code",
   "execution_count": 47,
   "metadata": {},
   "outputs": [
    {
     "data": {
      "text/plain": [
       "0"
      ]
     },
     "execution_count": 47,
     "metadata": {},
     "output_type": "execute_result"
    }
   ],
   "source": [
    "# 내풀이 2번\n",
    "## 위에거 너무 복잡해서 한개 더 \n",
    "def solution(citations):\n",
    "    n=len(citations)\n",
    "    citations_sort=sorted(citations)\n",
    "    for i,h in enumerate(citations_sort):\n",
    "        if (n-i)<h:\n",
    "            if i==0:\n",
    "                return n\n",
    "            else:\n",
    "                return max((n-i),citations_sort[i-1])\n",
    "            break\n",
    "    return 0\n",
    "solution([0])"
   ]
  },
  {
   "cell_type": "code",
   "execution_count": null,
   "metadata": {},
   "outputs": [],
   "source": [
    "# 1번 답안\n",
    "def solution(citations):\n",
    "    citations = sorted(citations)\n",
    "    l = len(citations)\n",
    "    for i in range(l):\n",
    "        if citations[i] >= l-i:\n",
    "            return l-i\n",
    "    return 0"
   ]
  },
  {
   "cell_type": "code",
   "execution_count": null,
   "metadata": {},
   "outputs": [],
   "source": [
    "# 2번 답압\n",
    "def solution(citations):\n",
    "    citations.sort(reverse=True)\n",
    "    answer = max(map(min, enumerate(citations, start=1)))\n",
    "    return answer"
   ]
  },
  {
   "cell_type": "markdown",
   "metadata": {},
   "source": [
    "# 3. 큐/스택"
   ]
  },
  {
   "cell_type": "markdown",
   "metadata": {},
   "source": [
    "## 1번"
   ]
  },
  {
   "cell_type": "code",
   "execution_count": 10,
   "metadata": {},
   "outputs": [
    {
     "data": {
      "text/plain": [
       "2"
      ]
     },
     "execution_count": 10,
     "metadata": {},
     "output_type": "execute_result"
    }
   ],
   "source": [
    "x=[1,2,3,4]\n",
    "t=1\n",
    "k=2\n",
    "x_2=[j>k if i>t else False for i,j in enumerate(x)]\n",
    "x_2.index(True)"
   ]
  },
  {
   "cell_type": "code",
   "execution_count": 12,
   "metadata": {},
   "outputs": [],
   "source": [
    "# 내 풀이 \n",
    "def solution(heights):\n",
    "    heights_rev=heights[::-1]\n",
    "    answer = []\n",
    "    for k in range(len(heights)):\n",
    "        heights_bool=[j>heights_rev[k] if i>k else False for i,j in enumerate(heights_rev)]\n",
    "        try:\n",
    "            idx=len(heights)-heights_bool.index(True)\n",
    "            answer.append(idx)\n",
    "        except:\n",
    "            answer.append(0)\n",
    "    return answer[::-1]"
   ]
  },
  {
   "cell_type": "code",
   "execution_count": 15,
   "metadata": {},
   "outputs": [
    {
     "data": {
      "text/plain": [
       "[0, 0, 2, 0, 0, 5, 6]"
      ]
     },
     "execution_count": 15,
     "metadata": {},
     "output_type": "execute_result"
    }
   ],
   "source": [
    "# 다른 사람 풀이\n",
    "def solution(h):\n",
    "    ans = [0] * len(h)\n",
    "    for i in range(len(h)-1, 0, -1):\n",
    "        for j in range(i-1, -1, -1):\n",
    "            if h[i] < h[j]:\n",
    "                ans[i] = j+1\n",
    "                break\n",
    "    return ans"
   ]
  },
  {
   "cell_type": "code",
   "execution_count": null,
   "metadata": {},
   "outputs": [],
   "source": [
    "# 다른 사람 풀이\n",
    "def solution(heights):\n",
    "    answer = [0]*len(heights)\n",
    "    stack = [] \n",
    "\n",
    "    for i in reversed(range(len(heights))):\n",
    "        while stack and stack[-1][1] < heights[i]:\n",
    "            idx, height = stack.pop()\n",
    "            answer[idx] = i+1\n",
    "        stack.append((i, heights[i]))\n",
    "\n",
    "    return answer"
   ]
  },
  {
   "cell_type": "markdown",
   "metadata": {},
   "source": [
    "## 2번"
   ]
  },
  {
   "cell_type": "code",
   "execution_count": 42,
   "metadata": {},
   "outputs": [],
   "source": [
    "# 내 풀이\n",
    "def solution(bridge_length, weight, truck_weights):\n",
    "    n=len(truck_weights)\n",
    "    end_bridge=[]\n",
    "    ing_bridge={}\n",
    "    total_time=0\n",
    "    i=0\n",
    "    while len(end_bridge)!=n:\n",
    "        total_time+=1\n",
    "        for p,q in ing_bridge.items():\n",
    "            if (total_time-p)==bridge_length:\n",
    "                end_bridge.append(q)\n",
    "                del ing_bridge[p]\n",
    "                break\n",
    "        try: \n",
    "            if ((sum(ing_bridge.values(),truck_weights[i])<=weight)&(len(ing_bridge)<bridge_length)):\n",
    "                ing_bridge.setdefault(total_time,truck_weights[i])\n",
    "                i+=1\n",
    "        except:\n",
    "            pass\n",
    "    return total_time"
   ]
  },
  {
   "cell_type": "code",
   "execution_count": 45,
   "metadata": {},
   "outputs": [
    {
     "data": {
      "text/plain": [
       "101"
      ]
     },
     "execution_count": 45,
     "metadata": {},
     "output_type": "execute_result"
    }
   ],
   "source": [
    "# 다른사람 풀이\n",
    "def solution(bridge_length, weight, truck_weights):\n",
    "    q=[0]*bridge_length\n",
    "    sec=0\n",
    "    while q:\n",
    "        sec+=1\n",
    "        q.pop(0)\n",
    "        if truck_weights:\n",
    "            if sum(q)+truck_weights[0]<=weight:\n",
    "                q.append(truck_weights.pop(0))\n",
    "            else:\n",
    "                q.append(0)\n",
    "    return sec"
   ]
  },
  {
   "cell_type": "markdown",
   "metadata": {},
   "source": [
    "+ []는 False로 적용되므로 if []:~ 는 작동 안함 => while이나 if 문에 쓰면 유용"
   ]
  },
  {
   "cell_type": "markdown",
   "metadata": {},
   "source": [
    "다른사람 풀이 대단하다! => 참고하기"
   ]
  },
  {
   "cell_type": "markdown",
   "metadata": {},
   "source": [
    "## 3번"
   ]
  },
  {
   "cell_type": "code",
   "execution_count": 71,
   "metadata": {},
   "outputs": [],
   "source": [
    "# 내 풀이\n",
    "def solution(progresses, speeds):\n",
    "    left_prog=list(map(lambda x: 100-x,progresses))\n",
    "    import math\n",
    "    d_days=list(map(lambda x: math.ceil(x[0]/x[1]),zip(left_prog,speeds)))\n",
    "    answer=[]\n",
    "    k=1\n",
    "    for i in range(1,len(d_days)):\n",
    "        if max(d_days[:i])>=d_days[i]:\n",
    "            k+=1\n",
    "        else:\n",
    "            answer.append(k)\n",
    "            k=1\n",
    "        if i==(len(d_days)-1):\n",
    "            answer.append(k)\n",
    "    return answer"
   ]
  },
  {
   "cell_type": "code",
   "execution_count": 70,
   "metadata": {},
   "outputs": [
    {
     "name": "stdout",
     "output_type": "stream",
     "text": [
      "[90, 70, 80, 60, 50]\n",
      "[9, 3, 3, 6, 50]\n",
      "[4, 1]\n"
     ]
    }
   ],
   "source": [
    "# 내 풀이 서술\n",
    "progresses=[10,30,20,40,50]\n",
    "speeds=[10,30,30,10,1]\n",
    "left_prog=list(map(lambda x: 100-x,progresses))\n",
    "print(left_prog)\n",
    "import math\n",
    "d_days=list(map(lambda x: math.ceil(x[0]/x[1]),zip(left_prog,speeds)))\n",
    "print(d_days)\n",
    "answer=[]\n",
    "k=1\n",
    "for i in range(1,len(d_days)):\n",
    "    if max(d_days[:i])>=d_days[i]:\n",
    "        k+=1\n",
    "    else:\n",
    "        answer.append(k)\n",
    "        k=1\n",
    "    if i==(len(d_days)-1):\n",
    "        answer.append(k)\n",
    "print(answer)"
   ]
  },
  {
   "cell_type": "code",
   "execution_count": null,
   "metadata": {},
   "outputs": [],
   "source": [
    "# 다른사람 풀이\n",
    "def solution(progresses, speeds):\n",
    "    Q=[]\n",
    "    for p, s in zip(progresses, speeds):\n",
    "        if len(Q)==0 or Q[-1][0]<-((p-100)//s):\n",
    "            Q.append([-((p-100)//s),1])\n",
    "        else:\n",
    "            Q[-1][1]+=1\n",
    "    return [q[1] for q in Q]"
   ]
  },
  {
   "cell_type": "markdown",
   "metadata": {},
   "source": [
    "## 4번"
   ]
  },
  {
   "cell_type": "code",
   "execution_count": 8,
   "metadata": {},
   "outputs": [],
   "source": [
    "# 내 풀이\n",
    "def solution(priorities, location):\n",
    "    prior_idx=[i for i,j in enumerate(priorities)]\n",
    "    i=0\n",
    "    while i!=(len(priorities)-1):\n",
    "        if priorities[i]<max(priorities[i+1:]):\n",
    "            priorities.append(priorities.pop(i))\n",
    "            prior_idx.append(prior_idx.pop(i))\n",
    "        else:\n",
    "            i+=1\n",
    "    answer = prior_idx.index(location)+1\n",
    "    return answer"
   ]
  },
  {
   "cell_type": "code",
   "execution_count": null,
   "metadata": {},
   "outputs": [],
   "source": []
  },
  {
   "cell_type": "markdown",
   "metadata": {},
   "source": [
    "+ rotate 쓰면 편함"
   ]
  },
  {
   "cell_type": "markdown",
   "metadata": {},
   "source": [
    "## 5번"
   ]
  },
  {
   "cell_type": "code",
   "execution_count": 36,
   "metadata": {},
   "outputs": [],
   "source": [
    "# 내풀이\n",
    "def solution(arrangement):\n",
    "    answer = 0\n",
    "    qstack=['(']\n",
    "    arrange_list=list(arrangement)\n",
    "    for idx in range(1,len(arrange_list)):\n",
    "        if idx==1 and arrange_list[idx]==')':\n",
    "            qstack.pop()\n",
    "        elif arrange_list[idx]==')' and arrange_list[idx-1]=='(':\n",
    "            qstack.pop()\n",
    "            answer+=len(qstack)\n",
    "        elif arrange_list[idx]=='(':\n",
    "            qstack.append('(')\n",
    "        elif arrange_list[idx]==')':\n",
    "            qstack.pop()\n",
    "            answer+=1\n",
    "    return answer"
   ]
  },
  {
   "cell_type": "code",
   "execution_count": 37,
   "metadata": {},
   "outputs": [
    {
     "data": {
      "text/plain": [
       "4"
      ]
     },
     "execution_count": 37,
     "metadata": {},
     "output_type": "execute_result"
    }
   ],
   "source": [
    "# 다른사람 풀이\n",
    "def solution(arrangement):\n",
    "    answer = 0\n",
    "    sticks = 0\n",
    "    rasor_to_zero = arrangement.replace('()','0')\n",
    "\n",
    "    for i in rasor_to_zero:\n",
    "        if i == '(':\n",
    "            sticks += 1\n",
    "        elif i =='0' :\n",
    "            answer += sticks\n",
    "        else :\n",
    "            sticks -= 1\n",
    "            answer += 1\n",
    "\n",
    "    return answer"
   ]
  },
  {
   "cell_type": "markdown",
   "metadata": {},
   "source": [
    "원리는 비슷하지만 훨씬 더 이해 하기 쉽고 깔끔함 "
   ]
  },
  {
   "cell_type": "markdown",
   "metadata": {},
   "source": [
    "replace를 통해 바꿔준것과 stick 개념을 넣은것이 좋은 수"
   ]
  },
  {
   "cell_type": "markdown",
   "metadata": {},
   "source": [
    "## 6번"
   ]
  },
  {
   "cell_type": "code",
   "execution_count": 48,
   "metadata": {},
   "outputs": [
    {
     "name": "stdout",
     "output_type": "stream",
     "text": [
      "[4, 3, 1, 1, 0]\n"
     ]
    }
   ],
   "source": [
    "# 내 풀이 (Test Case)\n",
    "prices=[1, 2, 3, 2, 3]\n",
    "answer=[]\n",
    "for i in range(len(prices)-1):\n",
    "    prices_bool=list(map(lambda x: x<prices[i],prices[i+1:]))\n",
    "    try:\n",
    "        answer.append(prices_bool.index(True)+1)\n",
    "    except:\n",
    "        answer.append(len(prices_bool))\n",
    "answer.append(0)\n",
    "print(answer)"
   ]
  },
  {
   "cell_type": "code",
   "execution_count": 51,
   "metadata": {},
   "outputs": [
    {
     "name": "stdout",
     "output_type": "stream",
     "text": [
      "5.1 µs ± 303 ns per loop (mean ± std. dev. of 7 runs, 100000 loops each)\n"
     ]
    }
   ],
   "source": [
    "%%timeit\n",
    "# 내 풀이\n",
    "def solution(prices):\n",
    "    answer=[]\n",
    "    for i in range(len(prices)-1):\n",
    "        prices_bool=list(map(lambda x: x<prices[i],prices[i+1:]))\n",
    "        try:\n",
    "            answer.append(prices_bool.index(True)+1)\n",
    "        except:\n",
    "            answer.append(len(prices_bool))\n",
    "    answer.append(0)\n",
    "    return answer\n",
    "solution([2,3,4,5]*100000)"
   ]
  },
  {
   "cell_type": "code",
   "execution_count": null,
   "metadata": {},
   "outputs": [],
   "source": [
    "# 내 다른풀이\n",
    "def solution(prices):\n",
    "    answer=[]\n",
    "    for i in range(len(prices)-1):\n",
    "        prices_bool=list(map(lambda x: x<prices[i],prices[i+1:]))\n",
    "        if any(prices_bool):\n",
    "            answer.append(prices_bool.index(True)+1)\n",
    "        else:\n",
    "            answer.append(len(prices_bool))\n",
    "    answer.append(0)\n",
    "    return answer"
   ]
  },
  {
   "cell_type": "code",
   "execution_count": 42,
   "metadata": {},
   "outputs": [],
   "source": [
    "# 내 또다른 풀이\n",
    "def solution(prices):\n",
    "    answer=[]\n",
    "    for i in range(len(prices)-1):\n",
    "        try:\n",
    "            prices_bool=next(j for j in prices[i+1:] if j<prices[i])\n",
    "            answer.append(prices[i+1:].index(prices_bool)+1)\n",
    "        except:\n",
    "            answer.append(len(prices[i+1:]))\n",
    "    answer.append(0)\n",
    "    return answer"
   ]
  },
  {
   "cell_type": "code",
   "execution_count": 85,
   "metadata": {},
   "outputs": [
    {
     "name": "stdout",
     "output_type": "stream",
     "text": [
      "64 ns ± 4.99 ns per loop (mean ± std. dev. of 7 runs, 10000000 loops each)\n"
     ]
    }
   ],
   "source": [
    "%%timeit\n",
    "# 내 또다른 풀이\n",
    "def solution(prices):\n",
    "    answer=[]\n",
    "    for i in range(len(prices)-1):\n",
    "        if any([k<prices[i] for k in prices[i+1:]]):\n",
    "            prices_bool=next(j for j in prices[i+1:] if j<prices[i])\n",
    "            answer.append(prices[i+1:].index(prices_bool)+1)\n",
    "        else:\n",
    "            answer.append(len(prices[i+1:]))\n",
    "    answer.append(0)\n",
    "    return answer"
   ]
  },
  {
   "cell_type": "markdown",
   "metadata": {},
   "source": [
    "+ %%timeit 시간 측정하기 "
   ]
  },
  {
   "cell_type": "code",
   "execution_count": null,
   "metadata": {},
   "outputs": [],
   "source": [
    "# 스터디 풀이\n",
    "def solution(prices):\n",
    "    answer=[]\n",
    "    for i in range(len(prices)):\n",
    "        prices_bool=[]\n",
    "        for j in range(i+1, len(prices)):\n",
    "            if prices[j]<prices[i]:\n",
    "                answer.append(j-i)\n",
    "                break\n",
    "        else:\n",
    "            answer.append(len(prices)-i-1)\n",
    "    return answer\n",
    "solution([1,2,3,2,3])"
   ]
  },
  {
   "cell_type": "markdown",
   "metadata": {},
   "source": [
    "# 4. 힙"
   ]
  },
  {
   "cell_type": "markdown",
   "metadata": {},
   "source": [
    "## 1번"
   ]
  },
  {
   "cell_type": "code",
   "execution_count": 1,
   "metadata": {},
   "outputs": [],
   "source": [
    "# 내 풀이 => 효율성 - 시간초과\n",
    "def solution(scoville, K):\n",
    "    answer = 0\n",
    "    while True:\n",
    "        min_scov=min(scoville)\n",
    "        if len(scoville)>1:\n",
    "            if min_scov<K:\n",
    "                scoville.remove(min_scov)\n",
    "                min_scov_1=min(scoville)\n",
    "                new_scov=min_scov+min_scov_1*2\n",
    "                scoville.remove(min_scov_1)\n",
    "                scoville.append(new_scov)\n",
    "                answer+=1\n",
    "            else:\n",
    "                break\n",
    "        elif min_scov<K:\n",
    "            return -1\n",
    "    return answer"
   ]
  },
  {
   "cell_type": "code",
   "execution_count": 4,
   "metadata": {},
   "outputs": [],
   "source": [
    "# 내 다른풀이 => heap 쓴것\n",
    "def solution(scoville, K):\n",
    "    import heapq\n",
    "    heapq.heapify(scoville)\n",
    "    answer = 0\n",
    "    while True:\n",
    "        min_scov=scoville[0]\n",
    "        if len(scoville)>1:\n",
    "            if min_scov<K:\n",
    "                heapq.heappop(scoville)\n",
    "                min_scov_1=scoville[0]\n",
    "                new_scov=min_scov+min_scov_1*2\n",
    "                heapq.heappop(scoville)\n",
    "                heapq.heappush(scoville,new_scov)\n",
    "                answer+=1\n",
    "            else:\n",
    "                break\n",
    "        elif min_scov<K:\n",
    "            return -1\n",
    "        else: \n",
    "            break\n",
    "    return answer"
   ]
  },
  {
   "cell_type": "markdown",
   "metadata": {},
   "source": [
    "## 2번."
   ]
  },
  {
   "cell_type": "code",
   "execution_count": null,
   "metadata": {},
   "outputs": [],
   "source": [
    "def solution(stock, dates, supplies, k):\n",
    "    answer = 0\n",
    "    return answer"
   ]
  },
  {
   "cell_type": "code",
   "execution_count": 9,
   "metadata": {},
   "outputs": [
    {
     "name": "stdout",
     "output_type": "stream",
     "text": [
      "2\n"
     ]
    }
   ],
   "source": [
    "stock=4;dates=[4,10,15];supplies=[20,5,10];k=30;\n",
    "answer=0\n",
    "heap=[]\n",
    "import heapq\n",
    "dates.append(k)\n",
    "supplies.append(0)\n",
    "for i in zip(dates,supplies):\n",
    "    heapq.heappush(heap,[-i[1],i[0]])\n",
    "    stock=stock-i[0]\n",
    "    if stock>0:\n",
    "        pass\n",
    "    else:\n",
    "        if i[0]==k:\n",
    "            while stock<0:\n",
    "                stock+=-heapq.heappop(heap)[0]\n",
    "                answer+=1\n",
    "        else:\n",
    "            while stock<=0:\n",
    "                stock+=-heapq.heappop(heap)[0]\n",
    "                answer+=1\n",
    "    stock+=i[0]\n",
    "print(answer)"
   ]
  },
  {
   "cell_type": "markdown",
   "metadata": {},
   "source": [
    "## 3번. 디스크 컨트롤러"
   ]
  },
  {
   "cell_type": "code",
   "execution_count": 109,
   "metadata": {},
   "outputs": [],
   "source": [
    "# 내 풀이\n",
    "def solution(jobs):\n",
    "    import heapq\n",
    "    total_time=0\n",
    "    answer=0\n",
    "    heapq.heapify(jobs)\n",
    "    all_len=len(jobs)\n",
    "    while jobs:\n",
    "        jobs_in_heap=[]\n",
    "        if total_time>=jobs[0][0]:\n",
    "            for i in jobs:\n",
    "                if total_time>=i[0]:\n",
    "                    heapq.heappush(jobs_in_heap,[i[1],i[0]])\n",
    "            remove_elem=heapq.heappop(jobs_in_heap)\n",
    "            total_time+=remove_elem[0]\n",
    "            answer+=total_time-remove_elem[1]\n",
    "            jobs.remove([remove_elem[1],remove_elem[0]])\n",
    "        else:\n",
    "            remove_elem=heapq.heappop(jobs)\n",
    "            total_time=remove_elem[1]+remove_elem[0]\n",
    "            answer+=remove_elem[1]\n",
    "    return int(answer/all_len)"
   ]
  },
  {
   "cell_type": "markdown",
   "metadata": {},
   "source": [
    "이건 통과 인데 왜지..?"
   ]
  },
  {
   "cell_type": "code",
   "execution_count": 133,
   "metadata": {},
   "outputs": [],
   "source": [
    "# 내 다른 풀이\n",
    "def solution(jobs):\n",
    "    import heapq\n",
    "    total_time=0\n",
    "    answer=0\n",
    "    heapq.heapify(jobs)\n",
    "    all_len=len(jobs)\n",
    "    while jobs:\n",
    "        extra=[]\n",
    "        jobs_in_heap=jobs[:]\n",
    "        if total_time>=jobs[0][0]:\n",
    "            while jobs_in_heap:\n",
    "                if total_time>=jobs_in_heap[0][0]:\n",
    "                    i=heapq.heappop(jobs_in_heap)\n",
    "                    heapq.heappush(extra,[i[1],i[0]])\n",
    "                else:\n",
    "                    break\n",
    "            remove_elem=heapq.heappop(extra)\n",
    "            total_time+=remove_elem[0]\n",
    "            answer+=total_time-remove_elem[1]\n",
    "            jobs.remove([remove_elem[1],remove_elem[0]])\n",
    "        else:\n",
    "            while jobs_in_heap:\n",
    "                if jobs[0][0]==jobs_in_heap[0][0]:\n",
    "                    i=heapq.heappop(jobs_in_heap)\n",
    "                    heapq.heappush(extra,[i[1],i[0]])\n",
    "                else:\n",
    "                    break\n",
    "            remove_elem=heapq.heappop(extra)\n",
    "            total_time=remove_elem[1]+remove_elem[0]\n",
    "            answer+=remove_elem[0]\n",
    "            jobs.remove([remove_elem[1],remove_elem[0]])\n",
    "    return int(answer/all_len)"
   ]
  },
  {
   "cell_type": "markdown",
   "metadata": {},
   "source": [
    "이건 왜 2개가 통과가 안되지..?"
   ]
  },
  {
   "cell_type": "code",
   "execution_count": 134,
   "metadata": {},
   "outputs": [
    {
     "data": {
      "text/plain": [
       "12"
      ]
     },
     "execution_count": 134,
     "metadata": {},
     "output_type": "execute_result"
    }
   ],
   "source": [
    "solution([[0, 15], [30, 10], [30, 6]])"
   ]
  },
  {
   "cell_type": "markdown",
   "metadata": {},
   "source": [
    "## 4번. 이중순위 큐"
   ]
  },
  {
   "cell_type": "code",
   "execution_count": 24,
   "metadata": {},
   "outputs": [],
   "source": [
    "# 내 풀이\n",
    "def solution(operations):\n",
    "    import heapq\n",
    "    heap=[]\n",
    "    for i in operations:\n",
    "        operate_list=i.split(' ')\n",
    "        if operate_list[0]=='I':\n",
    "            heapq.heappush(heap,int(operate_list[1]))\n",
    "        elif ((operate_list[0]=='D')&(operate_list[1]=='-1')):\n",
    "            try:\n",
    "                heapq.heappop(heap)\n",
    "            except:\n",
    "                pass\n",
    "        else:\n",
    "            if len(heap)==0:\n",
    "                pass\n",
    "            else:\n",
    "                heap.remove(max(heap))\n",
    "    answer=[max(heap,0)]\n",
    "    try:\n",
    "        answer.append(heapq.heappop(heap))\n",
    "    except:\n",
    "        answer.append(0)\n",
    "    return answer"
   ]
  },
  {
   "cell_type": "markdown",
   "metadata": {},
   "source": [
    "# 5. 완전탐색법"
   ]
  },
  {
   "cell_type": "markdown",
   "metadata": {},
   "source": [
    "## 1번. 모의고사"
   ]
  },
  {
   "cell_type": "code",
   "execution_count": null,
   "metadata": {},
   "outputs": [],
   "source": [
    "# 내 풀이\n",
    "def solution(answers):\n",
    "    len_answ=len(answers)\n",
    "    app_1=([1,2,3,4,5]*(len_answ//5+1))[:len_answ]\n",
    "    app_2=([2,1,2,3,2,4,2,5]*(len_answ//8+1))[:len_answ]\n",
    "    app_3=([3,3,1,1,2,2,4,4,5,5]*(len_answ//10+1))[:len_answ]\n",
    "    app_collect={1:0,2:0,3:0}\n",
    "    for i in range(len_answ):\n",
    "        if app_1[i]==answers[i]:\n",
    "            app_collect[1]+=1\n",
    "        if app_2[i]==answers[i]:\n",
    "            app_collect[2]+=1\n",
    "        if app_3[i]==answers[i]:\n",
    "            app_collect[3]+=1\n",
    "    max_app=max(app_collect.values())\n",
    "    last_answer=[]\n",
    "    for i,j in app_collect.items():\n",
    "        if j==max_app:\n",
    "            last_answer.append(i)\n",
    "    return last_answer"
   ]
  },
  {
   "cell_type": "code",
   "execution_count": null,
   "metadata": {},
   "outputs": [],
   "source": [
    "# 다른 사람 풀이\n",
    "def solution(answers):\n",
    "    pattern1 = [1,2,3,4,5]\n",
    "    pattern2 = [2,1,2,3,2,4,2,5]\n",
    "    pattern3 = [3,3,1,1,2,2,4,4,5,5]\n",
    "    score = [0, 0, 0]\n",
    "    result = []\n",
    "\n",
    "    for idx, answer in enumerate(answers):\n",
    "        if answer == pattern1[idx%len(pattern1)]:\n",
    "            score[0] += 1\n",
    "        if answer == pattern2[idx%len(pattern2)]:\n",
    "            score[1] += 1\n",
    "        if answer == pattern3[idx%len(pattern3)]:\n",
    "            score[2] += 1\n",
    "\n",
    "    for idx, s in enumerate(score):\n",
    "        if s == max(score):\n",
    "            result.append(idx+1)\n",
    "\n",
    "    return result"
   ]
  },
  {
   "cell_type": "markdown",
   "metadata": {},
   "source": [
    "+ 패턴 순환 과정을 길이만큼 나타내준게 아니라 패턴은 그대로 두고 나머지를 활용해서 패턴을 그려냈다는것이 굉장함!"
   ]
  },
  {
   "cell_type": "markdown",
   "metadata": {},
   "source": [
    "## 2번. 소수찾기"
   ]
  },
  {
   "cell_type": "code",
   "execution_count": 15,
   "metadata": {},
   "outputs": [],
   "source": [
    "# 내 풀이\n",
    "from itertools import permutations\n",
    "def solution(numbers):\n",
    "    answer = 0\n",
    "    all_num=list(numbers)\n",
    "    all_permute=set()\n",
    "    for i in range(1,len(numbers)+1):\n",
    "        all_permute.update(permutations(all_num,i))\n",
    "    all_permute_set=set(map(lambda x: int(''.join(x)),all_permute))\n",
    "    for i in all_permute_set:\n",
    "        i_num=int(i)\n",
    "        if ((i_num==0)|(i_num==1)):\n",
    "            continue\n",
    "        else:\n",
    "            for j in range(2,i_num):\n",
    "                if i_num%j==0:\n",
    "                    break\n",
    "            else:\n",
    "                answer+=1\n",
    "    return answer"
   ]
  },
  {
   "cell_type": "code",
   "execution_count": null,
   "metadata": {},
   "outputs": [],
   "source": [
    "# 다른 사람 풀이\n",
    "from itertools import permutations\n",
    "def solution(n):\n",
    "    a = set()\n",
    "    for i in range(len(n)):\n",
    "        a |= set(map(int, map(\"\".join, permutations(list(n), i + 1))))\n",
    "        # 이게 위에 내가 all_permute_set 까지 한 과정과 같음 => 조~~금 더 효율적임\n",
    "    a -= set(range(0, 2))\n",
    "        # 이걸 통해서 0,1을 삭제함(0,1은 애초에 소수가 아니니까)\n",
    "    for i in range(2, int(max(a) ** 0.5) + 1):\n",
    "        a -= set(range(i * 2, max(a) + 1, i))\n",
    "        # 소수 찾는방법 => 소수를 찾는것이 아니라 소수가 아닌것들을 차집합에서 빼는 형태로 수행함\n",
    "    return len(a)\n",
    "# 소수가 아닌 숫자는 자신보다 작은 값 중에 정수로 나뉘어 떨어지는 값이 있어야 하는데 그 이상의 값은 무조건 소수점이 나오니까요!"
   ]
  },
  {
   "cell_type": "markdown",
   "metadata": {},
   "source": [
    "## 3번. 숫자 야구"
   ]
  },
  {
   "cell_type": "code",
   "execution_count": null,
   "metadata": {},
   "outputs": [],
   "source": []
  },
  {
   "cell_type": "markdown",
   "metadata": {},
   "source": [
    "## 4번. 카펫"
   ]
  },
  {
   "cell_type": "code",
   "execution_count": 25,
   "metadata": {},
   "outputs": [],
   "source": [
    "def solution(brown, yellow):\n",
    "    total_block=brown+yellow\n",
    "    for verti in range(3,int(total_block**(0.5))+1):\n",
    "        nanum=divmod(total_block,verti)\n",
    "        horizon=nanum[0]\n",
    "        if nanum[1]==0:\n",
    "            outline=horizon*2+verti*2-4\n",
    "            if outline<=brown:\n",
    "                return [horizon,verti]\n",
    "            else: \n",
    "                continue\n",
    "        else:\n",
    "            continue"
   ]
  },
  {
   "cell_type": "code",
   "execution_count": 28,
   "metadata": {},
   "outputs": [
    {
     "data": {
      "text/plain": [
       "[8, 6]"
      ]
     },
     "execution_count": 28,
     "metadata": {},
     "output_type": "execute_result"
    }
   ],
   "source": [
    "solution(24,24)"
   ]
  },
  {
   "cell_type": "code",
   "execution_count": 40,
   "metadata": {},
   "outputs": [
    {
     "data": {
      "text/plain": [
       "[0, 0]"
      ]
     },
     "execution_count": 40,
     "metadata": {},
     "output_type": "execute_result"
    }
   ],
   "source": [
    "a=[1,2];b=[3,4]\n",
    "list(map(lambda x: x[0]//x[1],zip(a,b)))"
   ]
  },
  {
   "cell_type": "code",
   "execution_count": 39,
   "metadata": {},
   "outputs": [
    {
     "name": "stdout",
     "output_type": "stream",
     "text": [
      "1 3\n",
      "2 4\n"
     ]
    }
   ],
   "source": [
    "a=[1,2];b=[3,4]\n",
    "for c,d in zip(a,b):\n",
    "    print(c,d)"
   ]
  },
  {
   "cell_type": "code",
   "execution_count": 44,
   "metadata": {},
   "outputs": [],
   "source": [
    "import collections"
   ]
  },
  {
   "cell_type": "code",
   "execution_count": 55,
   "metadata": {},
   "outputs": [
    {
     "data": {
      "text/plain": [
       "Counter({1: 2, 2: 1, 3: 1, 4: 1})"
      ]
     },
     "execution_count": 55,
     "metadata": {},
     "output_type": "execute_result"
    }
   ],
   "source": [
    "a=collections.Counter([1,2,1,3,4])\n",
    "a"
   ]
  },
  {
   "cell_type": "code",
   "execution_count": 58,
   "metadata": {},
   "outputs": [
    {
     "data": {
      "text/plain": [
       "[2, 1, 1, 1]"
      ]
     },
     "execution_count": 58,
     "metadata": {},
     "output_type": "execute_result"
    }
   ],
   "source": [
    "import itertool\n",
    "list(a.values())"
   ]
  },
  {
   "cell_type": "code",
   "execution_count": 59,
   "metadata": {},
   "outputs": [],
   "source": [
    "import itertools"
   ]
  },
  {
   "cell_type": "code",
   "execution_count": 60,
   "metadata": {},
   "outputs": [],
   "source": [
    "from functools import reduce"
   ]
  },
  {
   "cell_type": "code",
   "execution_count": 64,
   "metadata": {},
   "outputs": [],
   "source": [
    "def solution(clothes):\n",
    "    from collections import Counter\n",
    "    from functools import reduce\n",
    "    clothes_kind=list(map(lambda x: x[1],clothes))\n",
    "    clothes_num=Counter(clothes_kind)\n",
    "    answer=reduce(lambda a,b: a*(b+1),clothes_num.values(),1)-1\n",
    "    return answer"
   ]
  },
  {
   "cell_type": "code",
   "execution_count": 65,
   "metadata": {},
   "outputs": [
    {
     "data": {
      "text/plain": [
       "5"
      ]
     },
     "execution_count": 65,
     "metadata": {},
     "output_type": "execute_result"
    }
   ],
   "source": [
    "solution([['yellow_hat', 'headgear'], ['blue_sunglasses', 'eyewear'], ['green_turban', 'headgear']])"
   ]
  }
 ],
 "metadata": {
  "kernelspec": {
   "display_name": "Python 3",
   "language": "python",
   "name": "python3"
  },
  "language_info": {
   "codemirror_mode": {
    "name": "ipython",
    "version": 3
   },
   "file_extension": ".py",
   "mimetype": "text/x-python",
   "name": "python",
   "nbconvert_exporter": "python",
   "pygments_lexer": "ipython3",
   "version": "3.7.3"
  }
 },
 "nbformat": 4,
 "nbformat_minor": 2
}
