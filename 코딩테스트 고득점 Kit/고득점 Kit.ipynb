{
 "cells": [
  {
   "cell_type": "markdown",
   "metadata": {},
   "source": [
    "## 1. 해쉬"
   ]
  },
  {
   "cell_type": "markdown",
   "metadata": {},
   "source": [
    "### 1번"
   ]
  },
  {
   "cell_type": "markdown",
   "metadata": {},
   "source": [
    "### 2번"
   ]
  },
  {
   "cell_type": "markdown",
   "metadata": {},
   "source": [
    "### 3번"
   ]
  },
  {
   "cell_type": "code",
   "execution_count": 71,
   "metadata": {},
   "outputs": [
    {
     "data": {
      "text/plain": [
       "11"
      ]
     },
     "execution_count": 71,
     "metadata": {},
     "output_type": "execute_result"
    }
   ],
   "source": [
    "# 내 첫번째 풀이 => combination은 시간이 많이 소비됨\n",
    "clothes=[['yellow_hat', 'headgear'], ['blue_sunglasses', 'eyewear'], ['green_turban', 'headgear'],['a','b']]\n",
    "answer=0\n",
    "clothes_sum={}\n",
    "for i in clothes:\n",
    "    clothes_sum.setdefault(i[1],[])\n",
    "    clothes_sum[i[1]].append(i[0])\n",
    "clothes_len=list(map(len,clothes_sum.values()))\n",
    "import itertools\n",
    "from functools import reduce\n",
    "answer+=sum(clothes_len)\n",
    "for i in range(2,len(clothes_len)+1):\n",
    "    x=list(itertools.combinations(map(str,clothes_len),i))\n",
    "    for i in x:\n",
    "        answer+=reduce(lambda a,b:a*b,map(int,i))\n",
    "answer"
   ]
  },
  {
   "cell_type": "code",
   "execution_count": null,
   "metadata": {},
   "outputs": [],
   "source": [
    "# 내 두번째 풀이\n",
    "def solution(clothes):\n",
    "    clothes_sum={}\n",
    "    for i in clothes:\n",
    "        clothes_sum.setdefault(i[1],[])\n",
    "        clothes_sum[i[1]].append(i[0])\n",
    "    clothes_len=list(map(len,clothes_sum.values()))\n",
    "    from functools import reduce\n",
    "    answer=reduce(lambda x,y: x*(y+1),clothes_len,1)-1\n",
    "    return answer"
   ]
  },
  {
   "cell_type": "markdown",
   "metadata": {},
   "source": [
    "+ (a,b,c) 각 요소를 다 곱하고 싶을땐 (a+1)(b+1)(c+1)-1 해주면됨 => 이건 reduce 이용"
   ]
  },
  {
   "cell_type": "code",
   "execution_count": null,
   "metadata": {},
   "outputs": [],
   "source": [
    "# 정답\n",
    "def solution(clothes):\n",
    "    from collections import Counter\n",
    "    from functools import reduce\n",
    "    cnt = Counter([kind for name, kind in clothes])\n",
    "    answer = reduce(lambda x, y: x*(y+1), cnt.values(), 1) - 1\n",
    "    return answer"
   ]
  },
  {
   "cell_type": "markdown",
   "metadata": {},
   "source": [
    "+ collections에 counter 중요!"
   ]
  },
  {
   "cell_type": "markdown",
   "metadata": {},
   "source": [
    "+ counter는 리스트에서 각 요소들의 갯수를 딕셔너리로 출력해줌 => but 딕셔너리지만 count라는 객체라서 뺄셈,덧셈 가능"
   ]
  },
  {
   "cell_type": "markdown",
   "metadata": {},
   "source": [
    "### 4번"
   ]
  },
  {
   "cell_type": "code",
   "execution_count": null,
   "metadata": {},
   "outputs": [],
   "source": [
    "# 첫번째 내 풀이 => 2개 실패\n",
    "def solution(genres, plays):\n",
    "    k={}\n",
    "    for i in zip(genres,plays):\n",
    "        k.setdefault(i[0],[])\n",
    "        k[i[0]].append(i[1])\n",
    "    top2_genre=sorted(k.items(),key=lambda x: sum(x[1]),reverse=True)\n",
    "    k_1=dict(top2_genre)\n",
    "    x=[sorted(i,reverse=True)[0:2] for i in k_1.values()]\n",
    "    import itertools\n",
    "    x_1=list(itertools.chain(*x))\n",
    "    answer=[j for i in x_1 for j,k in enumerate(plays) if i==k]\n",
    "    return answer"
   ]
  },
  {
   "cell_type": "code",
   "execution_count": 197,
   "metadata": {},
   "outputs": [
    {
     "name": "stdout",
     "output_type": "stream",
     "text": [
      "{'pop': [], 'classic': []}\n",
      "{'pop': [1, 4], 'classic': [0, 3]}\n"
     ]
    },
    {
     "data": {
      "text/plain": [
       "[1, 4, 0, 3]"
      ]
     },
     "execution_count": 197,
     "metadata": {},
     "output_type": "execute_result"
    }
   ],
   "source": [
    "# 두번째 내풀이 \n",
    "genres=['classic', 'pop', 'classic', 'classic', 'pop']\n",
    "plays=[500, 600, 150, 800, 2500]\n",
    "k={}\n",
    "for i in zip(genres,plays):\n",
    "    k.setdefault(i[0],[])\n",
    "    k[i[0]].append(i[1])\n",
    "top_genre=sorted(k.items(),key=lambda x: sum(x[1]),reverse=True)\n",
    "k_1=dict(top_genre)\n",
    "x={k:sorted(i,reverse=True)[0:2] for k,i in k_1.items()}\n",
    "k={}\n",
    "tsz={}\n",
    "for i in genres:\n",
    "    k.setdefault(i,[])\n",
    "for j in top_genre:\n",
    "    tsz.setdefault(j[0],[])\n",
    "print(tsz)\n",
    "for i,j in enumerate(zip(genres,plays)):\n",
    "    if j[1] in x[j[0]]:\n",
    "        if j[1] in k[j[0]]:\n",
    "            pass\n",
    "        else:\n",
    "            k[j[0]].append(j[1])\n",
    "            tsz[j[0]].append(i)\n",
    "print(tsz)\n",
    "import itertools\n",
    "answer=list(itertools.chain(*list(tsz.values())))\n",
    "answer"
   ]
  },
  {
   "cell_type": "markdown",
   "metadata": {},
   "source": [
    "## 2. 정렬"
   ]
  },
  {
   "cell_type": "markdown",
   "metadata": {},
   "source": [
    "### 1번"
   ]
  },
  {
   "cell_type": "code",
   "execution_count": 8,
   "metadata": {},
   "outputs": [
    {
     "data": {
      "text/plain": [
       "[5, 3]"
      ]
     },
     "execution_count": 8,
     "metadata": {},
     "output_type": "execute_result"
    }
   ],
   "source": [
    "# 내풀이\n",
    "def solution(array, commands):\n",
    "    answer = []\n",
    "    for i in commands:\n",
    "        array_1=array[(i[0]-1):(i[1])]\n",
    "        answer.append(sorted(array_1)[i[2]-1])\n",
    "    return answer\n",
    "solution([4,2,5,6,3,2,4],[[2,5,3],[1,5,2]])"
   ]
  },
  {
   "cell_type": "code",
   "execution_count": 15,
   "metadata": {},
   "outputs": [],
   "source": [
    "# 다른사람 풀이\n",
    "def solution(array, commands):\n",
    "    return list(map(lambda x:sorted(array[x[0]-1:x[1]])[x[2]-1], commands)) # Map과 lambda의 활용 중요!!\n",
    "solution([4,2,5,6,3,2,4],[[2,5,3],[1,5,2]])"
   ]
  },
  {
   "cell_type": "markdown",
   "metadata": {},
   "source": [
    "### 2번"
   ]
  },
  {
   "cell_type": "code",
   "execution_count": null,
   "metadata": {},
   "outputs": [],
   "source": [
    "def solution(numbers):\n",
    "    import itertools\n",
    "    itertools.permutations(list(map())\n",
    "    answer = ''\n",
    "    return answer"
   ]
  },
  {
   "cell_type": "code",
   "execution_count": null,
   "metadata": {},
   "outputs": [],
   "source": [
    "x=[1,4,5,8,10,11,21,62]\n",
    "z=[]\n",
    "for i in x:\n",
    "    if i<10:\n",
    "        z.append(i)\n",
    "    elif i<100:\n",
    "        z.append(i//10)\n",
    "    else:\n",
    "        z.append(i//100)\n",
    "x_1=sorted(x,key=lambda y: int(list(str(y))[0]),reverse=True)\n",
    "x_1"
   ]
  },
  {
   "cell_type": "code",
   "execution_count": 95,
   "metadata": {},
   "outputs": [
    {
     "data": {
      "text/plain": [
       "[8, 6, 5, 4, 2, 1, 1, 1]"
      ]
     },
     "execution_count": 95,
     "metadata": {},
     "output_type": "execute_result"
    }
   ],
   "source": [
    "number=[1,4,5,8,10,11,21,62]\n",
    "number_first=list(map(lambda i: int(list(str(i))[0]),number))\n",
    "num_f_sort=sorted(number_first,reverse=True)\n",
    "set(num_f_sort)\n"
   ]
  },
  {
   "cell_type": "code",
   "execution_count": 73,
   "metadata": {},
   "outputs": [
    {
     "data": {
      "text/plain": [
       "'9534330'"
      ]
     },
     "execution_count": 73,
     "metadata": {},
     "output_type": "execute_result"
    }
   ],
   "source": [
    "def solution(numbers):\n",
    "    import itertools\n",
    "    str_numbers=map(str,numbers)\n",
    "    combination=itertools.permutations(str_numbers)\n",
    "    comb_join=map(''.join,combination)\n",
    "    comb_int=map(int,comb_join)\n",
    "    answer=max(comb_int)\n",
    "    return str(answer)\n",
    "solution([3, 30, 34, 5, 9])"
   ]
  },
  {
   "cell_type": "markdown",
   "metadata": {},
   "source": [
    "### 3번"
   ]
  },
  {
   "cell_type": "code",
   "execution_count": 46,
   "metadata": {},
   "outputs": [
    {
     "data": {
      "text/plain": [
       "0"
      ]
     },
     "execution_count": 46,
     "metadata": {},
     "output_type": "execute_result"
    }
   ],
   "source": [
    "# 내풀이 1번\n",
    "def solution(citations):\n",
    "    n=len(citations)\n",
    "    citations_sort=sorted(citations)\n",
    "    for i,h in enumerate(citations_sort):\n",
    "        if (n-i)<h:\n",
    "            break\n",
    "    if i==0:\n",
    "        answer=n\n",
    "    else:\n",
    "        answer=max((n-i),citations_sort[i-1])\n",
    "    if h==0:\n",
    "        answer=0\n",
    "    return answer\n",
    "solution([0])"
   ]
  },
  {
   "cell_type": "code",
   "execution_count": 47,
   "metadata": {},
   "outputs": [
    {
     "data": {
      "text/plain": [
       "0"
      ]
     },
     "execution_count": 47,
     "metadata": {},
     "output_type": "execute_result"
    }
   ],
   "source": [
    "# 내풀이 2번\n",
    "## 위에거 너무 복잡해서 한개 더 \n",
    "def solution(citations):\n",
    "    n=len(citations)\n",
    "    citations_sort=sorted(citations)\n",
    "    for i,h in enumerate(citations_sort):\n",
    "        if (n-i)<h:\n",
    "            if i==0:\n",
    "                return n\n",
    "            else:\n",
    "                return max((n-i),citations_sort[i-1])\n",
    "            break\n",
    "    return 0\n",
    "solution([0])"
   ]
  },
  {
   "cell_type": "code",
   "execution_count": null,
   "metadata": {},
   "outputs": [],
   "source": [
    "# 1번 답안\n",
    "def solution(citations):\n",
    "    citations = sorted(citations)\n",
    "    l = len(citations)\n",
    "    for i in range(l):\n",
    "        if citations[i] >= l-i:\n",
    "            return l-i\n",
    "    return 0"
   ]
  },
  {
   "cell_type": "code",
   "execution_count": null,
   "metadata": {},
   "outputs": [],
   "source": [
    "# 2번 답압\n",
    "def solution(citations):\n",
    "    citations.sort(reverse=True)\n",
    "    answer = max(map(min, enumerate(citations, start=1)))\n",
    "    return answer"
   ]
  }
 ],
 "metadata": {
  "kernelspec": {
   "display_name": "Python 3",
   "language": "python",
   "name": "python3"
  },
  "language_info": {
   "codemirror_mode": {
    "name": "ipython",
    "version": 3
   },
   "file_extension": ".py",
   "mimetype": "text/x-python",
   "name": "python",
   "nbconvert_exporter": "python",
   "pygments_lexer": "ipython3",
   "version": "3.7.3"
  }
 },
 "nbformat": 4,
 "nbformat_minor": 2
}
