{
 "cells": [
  {
   "cell_type": "markdown",
   "metadata": {},
   "source": [
    "# 4. Heap(힙)"
   ]
  },
  {
   "cell_type": "markdown",
   "metadata": {},
   "source": [
    "지속적인 최솟값이나 최댓값 구하기 / 지속적인 k번째 최솟값 또는 최댓값 구하기 할때 시간 효율성 good 자료구조 "
   ]
  },
  {
   "cell_type": "code",
   "execution_count": 1,
   "metadata": {},
   "outputs": [],
   "source": [
    "import heapq"
   ]
  },
  {
   "cell_type": "markdown",
   "metadata": {},
   "source": [
    "+ 힙 원소 추가"
   ]
  },
  {
   "cell_type": "code",
   "execution_count": 5,
   "metadata": {},
   "outputs": [
    {
     "name": "stdout",
     "output_type": "stream",
     "text": [
      "[1, 2, 4, 3]\n"
     ]
    }
   ],
   "source": [
    "heap=[]\n",
    "heapq.heappush(heap,3)\n",
    "heapq.heappush(heap,1)\n",
    "heapq.heappush(heap,4)\n",
    "heapq.heappush(heap,2)\n",
    "print(heap)"
   ]
  },
  {
   "cell_type": "markdown",
   "metadata": {},
   "source": [
    "이진 트리 힙 구성에 따라 배치됨 => 항상 맨 왼쪽은 최솟값 (But heap[1]이 두번째로 작은 값을 뜻하는건 아님)"
   ]
  },
  {
   "cell_type": "markdown",
   "metadata": {},
   "source": [
    "내부적으로 이진트리에 원소를 추가하는 heappush() 함수는 O(logN)의 시간 복잡도를 가짐"
   ]
  },
  {
   "cell_type": "markdown",
   "metadata": {},
   "source": [
    "+ 힙 원소 삭제"
   ]
  },
  {
   "cell_type": "code",
   "execution_count": 7,
   "metadata": {},
   "outputs": [
    {
     "name": "stdout",
     "output_type": "stream",
     "text": [
      "1\n",
      "[2, 3, 4]\n"
     ]
    }
   ],
   "source": [
    "print(heapq.heappop(heap))\n",
    "print(heap)"
   ]
  },
  {
   "cell_type": "markdown",
   "metadata": {},
   "source": [
    "힙은 삭제를 하면서 제일 왼쪽거를 삭제함 => 가장 작은 원소"
   ]
  },
  {
   "cell_type": "markdown",
   "metadata": {},
   "source": [
    "삭제하면서 그 값을 출력함"
   ]
  },
  {
   "cell_type": "markdown",
   "metadata": {},
   "source": [
    "2번째로 작은 값에 접근하고 싶다면 heappop을 이용해 가장 작은 값을 없애고 난뒤 heap[0] 이용"
   ]
  },
  {
   "cell_type": "markdown",
   "metadata": {},
   "source": [
    "+ 힙으로 변환"
   ]
  },
  {
   "cell_type": "code",
   "execution_count": 8,
   "metadata": {},
   "outputs": [
    {
     "data": {
      "text/plain": [
       "[1, 3, 2, 6, 5, 2, 4]"
      ]
     },
     "execution_count": 8,
     "metadata": {},
     "output_type": "execute_result"
    }
   ],
   "source": [
    "x=[4,6,2,3,5,1,2]\n",
    "heapq.heapify(x)\n",
    "x"
   ]
  },
  {
   "cell_type": "markdown",
   "metadata": {},
   "source": [
    "이것은 원소 하나씩 힙으로 넘기기 때문에 O(N) 시간 소요"
   ]
  },
  {
   "cell_type": "markdown",
   "metadata": {},
   "source": [
    "+ 최댓값 구하기"
   ]
  },
  {
   "cell_type": "code",
   "execution_count": 11,
   "metadata": {},
   "outputs": [
    {
     "name": "stdout",
     "output_type": "stream",
     "text": [
      "최댓값:  8\n",
      "8\n",
      "7\n",
      "5\n",
      "4\n",
      "3\n",
      "1\n"
     ]
    }
   ],
   "source": [
    "nums=[4, 1, 7, 3, 8, 5]\n",
    "heap=[]\n",
    "for num in nums:\n",
    "    heapq.heappush(heap,(-num,num))\n",
    "print('최댓값: ',heap[0][1])\n",
    "while heap:\n",
    "    print(heapq.heappop(heap)[1])"
   ]
  },
  {
   "cell_type": "markdown",
   "metadata": {},
   "source": [
    "-num으로 순위를 매겨 가장 작은 값으로 들어가게 한 후 가장 작은 순위의 값을 출력 => 최댓값"
   ]
  },
  {
   "cell_type": "markdown",
   "metadata": {},
   "source": [
    "하나씩 제거하면서 크기 순서대로 출력"
   ]
  },
  {
   "cell_type": "markdown",
   "metadata": {},
   "source": [
    "+ k번째 최댓값/최솟값 구하기"
   ]
  },
  {
   "cell_type": "code",
   "execution_count": 12,
   "metadata": {},
   "outputs": [
    {
     "name": "stdout",
     "output_type": "stream",
     "text": [
      "4\n"
     ]
    }
   ],
   "source": [
    "def kth_smallest(nums, k):\n",
    "    heap = []\n",
    "    for num in nums:\n",
    "        heapq.heappush(heap, num)\n",
    "    kth_min = None\n",
    "    for _ in range(k):\n",
    "        kth_min = heapq.heappop(heap)\n",
    "    return kth_min\n",
    "print(kth_smallest([4, 1, 7, 3, 8, 5], 3))"
   ]
  },
  {
   "cell_type": "markdown",
   "metadata": {},
   "source": [
    "+ 힙 정렬"
   ]
  },
  {
   "cell_type": "code",
   "execution_count": 13,
   "metadata": {},
   "outputs": [
    {
     "name": "stdout",
     "output_type": "stream",
     "text": [
      "[1, 3, 4, 5, 7, 8]\n"
     ]
    }
   ],
   "source": [
    "def heap_sort(nums):\n",
    "    heap = []\n",
    "    for num in nums:\n",
    "        heapq.heappush(heap, num)\n",
    "    sorted_nums = []\n",
    "    while heap:\n",
    "        sorted_nums.append(heapq.heappop(heap))\n",
    "    return sorted_nums\n",
    "print(heap_sort([4, 1, 7, 3, 8, 5]))"
   ]
  },
  {
   "cell_type": "markdown",
   "metadata": {},
   "source": [
    "# 정렬에서의 팁"
   ]
  },
  {
   "cell_type": "markdown",
   "metadata": {},
   "source": [
    "+ 2가지 조건으로 정렬을 하고 싶다면 key를 튜플로 만들어서 이용하기"
   ]
  }
 ],
 "metadata": {
  "kernelspec": {
   "display_name": "Python 3",
   "language": "python",
   "name": "python3"
  },
  "language_info": {
   "codemirror_mode": {
    "name": "ipython",
    "version": 3
   },
   "file_extension": ".py",
   "mimetype": "text/x-python",
   "name": "python",
   "nbconvert_exporter": "python",
   "pygments_lexer": "ipython3",
   "version": "3.7.3"
  }
 },
 "nbformat": 4,
 "nbformat_minor": 2
}
