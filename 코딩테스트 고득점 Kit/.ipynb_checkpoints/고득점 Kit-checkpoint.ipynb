{
 "cells": [
  {
   "cell_type": "markdown",
   "metadata": {},
   "source": [
    "## 1. 해쉬"
   ]
  },
  {
   "cell_type": "markdown",
   "metadata": {},
   "source": [
    "### 1번"
   ]
  },
  {
   "cell_type": "markdown",
   "metadata": {},
   "source": [
    "### 2번"
   ]
  },
  {
   "cell_type": "markdown",
   "metadata": {},
   "source": [
    "### 3번"
   ]
  },
  {
   "cell_type": "code",
   "execution_count": 2,
   "metadata": {},
   "outputs": [
    {
     "name": "stdout",
     "output_type": "stream",
     "text": [
      "(1, 3)\n",
      "(2, 5)\n"
     ]
    }
   ],
   "source": [
    "def solution(clothes):\n",
    "    x=dict()\n",
    "    for i,j in zip(*clothes):\n",
    "        x[j]=i\n",
    "    return answer"
   ]
  },
  {
   "cell_type": "code",
   "execution_count": 51,
   "metadata": {},
   "outputs": [
    {
     "name": "stdout",
     "output_type": "stream",
     "text": [
      "[[('2',), ('1',), ('1',)], [('2', '1'), ('2', '1'), ('1', '1')], [('2', '1', '1')]]\n"
     ]
    }
   ],
   "source": [
    "clothes=[['yellow_hat', 'headgear'], ['blue_sunglasses', 'eyewear'], ['green_turban', 'headgear'],['a','b']]\n",
    "answer=0\n",
    "clothes_sum={}\n",
    "for i in clothes:\n",
    "    clothes_sum.setdefault(i[1],[])\n",
    "    clothes_sum[i[1]].append(i[0])\n",
    "clothes_len=list(map(len,clothes_sum.values()))\n",
    "import itertools\n",
    "for i in range(1,len(clothes_len)+1):\n",
    "    x=list(itertools.combinations(map(str,clothes_len),i))\n",
    "    \n",
    "print(len_comb)"
   ]
  },
  {
   "cell_type": "code",
   "execution_count": 54,
   "metadata": {},
   "outputs": [
    {
     "data": {
      "text/plain": [
       "[('2', '1'), ('2', '1'), ('1', '1')]"
      ]
     },
     "execution_count": 54,
     "metadata": {},
     "output_type": "execute_result"
    }
   ],
   "source": [
    "x=list(itertools.combinations(map(str,clothes_len),2))\n",
    "map(lambda y: ,x)"
   ]
  },
  {
   "cell_type": "code",
   "execution_count": 14,
   "metadata": {},
   "outputs": [
    {
     "ename": "ValueError",
     "evalue": "too many values to unpack (expected 2)",
     "output_type": "error",
     "traceback": [
      "\u001b[1;31m---------------------------------------------------------------------------\u001b[0m",
      "\u001b[1;31mValueError\u001b[0m                                Traceback (most recent call last)",
      "\u001b[1;32m<ipython-input-14-2dedb7e43011>\u001b[0m in \u001b[0;36m<module>\u001b[1;34m\u001b[0m\n\u001b[0;32m      1\u001b[0m \u001b[0mclothes\u001b[0m\u001b[1;33m=\u001b[0m\u001b[1;33m[\u001b[0m\u001b[1;33m[\u001b[0m\u001b[1;34m'yellow_hat'\u001b[0m\u001b[1;33m,\u001b[0m \u001b[1;34m'headgear'\u001b[0m\u001b[1;33m]\u001b[0m\u001b[1;33m,\u001b[0m \u001b[1;33m[\u001b[0m\u001b[1;34m'blue_sunglasses'\u001b[0m\u001b[1;33m,\u001b[0m \u001b[1;34m'eyewear'\u001b[0m\u001b[1;33m]\u001b[0m\u001b[1;33m,\u001b[0m \u001b[1;33m[\u001b[0m\u001b[1;34m'green_turban'\u001b[0m\u001b[1;33m,\u001b[0m \u001b[1;34m'headgear'\u001b[0m\u001b[1;33m]\u001b[0m\u001b[1;33m]\u001b[0m\u001b[1;33m\u001b[0m\u001b[1;33m\u001b[0m\u001b[0m\n\u001b[1;32m----> 2\u001b[1;33m \u001b[1;32mfor\u001b[0m \u001b[0mi\u001b[0m\u001b[1;33m,\u001b[0m\u001b[0mj\u001b[0m \u001b[1;32min\u001b[0m \u001b[0mtuple\u001b[0m\u001b[1;33m(\u001b[0m\u001b[0mzip\u001b[0m\u001b[1;33m(\u001b[0m\u001b[1;33m*\u001b[0m\u001b[0mclothes\u001b[0m\u001b[1;33m)\u001b[0m\u001b[1;33m)\u001b[0m\u001b[1;33m:\u001b[0m\u001b[1;33m\u001b[0m\u001b[1;33m\u001b[0m\u001b[0m\n\u001b[0m\u001b[0;32m      3\u001b[0m     \u001b[0mprint\u001b[0m\u001b[1;33m(\u001b[0m\u001b[0mi\u001b[0m\u001b[1;33m,\u001b[0m\u001b[0mj\u001b[0m\u001b[1;33m)\u001b[0m\u001b[1;33m\u001b[0m\u001b[1;33m\u001b[0m\u001b[0m\n",
      "\u001b[1;31mValueError\u001b[0m: too many values to unpack (expected 2)"
     ]
    }
   ],
   "source": [
    "clothes=[['yellow_hat', 'headgear'], ['blue_sunglasses', 'eyewear'], ['green_turban', 'headgear']]"
   ]
  },
  {
   "cell_type": "code",
   "execution_count": 28,
   "metadata": {},
   "outputs": [
    {
     "data": {
      "text/plain": [
       "['a']"
      ]
     },
     "execution_count": 28,
     "metadata": {},
     "output_type": "execute_result"
    }
   ],
   "source": [
    "z={'a':[1,2]}\n",
    "list(z.keys())"
   ]
  },
  {
   "cell_type": "code",
   "execution_count": null,
   "metadata": {},
   "outputs": [],
   "source": []
  },
  {
   "cell_type": "code",
   "execution_count": null,
   "metadata": {},
   "outputs": [],
   "source": []
  },
  {
   "cell_type": "code",
   "execution_count": null,
   "metadata": {},
   "outputs": [],
   "source": []
  },
  {
   "cell_type": "code",
   "execution_count": null,
   "metadata": {},
   "outputs": [],
   "source": [
    "    answer=len(clothes)\n",
    "    x_1=dict(clothes)\n",
    "    x_2=list(set(x_1.values()))\n",
    "    x_3={j:0 for j in dict(clothes).values()}\n",
    "    for i in range(len(x_2)):\n",
    "        for k,j in x_1.items():\n",
    "            if x_2[i]==j:\n",
    "                x_3[j]+=1\n",
    "    x_4=list(x_3.values())\n",
    "    for i in range(len(x_3)):\n",
    "        for j in range(i+1,len(x_3)):\n",
    "            answer+=x_4[i]*x_4[j]"
   ]
  },
  {
   "cell_type": "code",
   "execution_count": null,
   "metadata": {},
   "outputs": [],
   "source": []
  },
  {
   "cell_type": "code",
   "execution_count": null,
   "metadata": {},
   "outputs": [],
   "source": []
  },
  {
   "cell_type": "code",
   "execution_count": null,
   "metadata": {},
   "outputs": [],
   "source": []
  },
  {
   "cell_type": "code",
   "execution_count": null,
   "metadata": {},
   "outputs": [],
   "source": []
  },
  {
   "cell_type": "code",
   "execution_count": null,
   "metadata": {},
   "outputs": [],
   "source": []
  },
  {
   "cell_type": "markdown",
   "metadata": {},
   "source": [
    "## 2. 정렬"
   ]
  },
  {
   "cell_type": "markdown",
   "metadata": {},
   "source": [
    "### 1번"
   ]
  },
  {
   "cell_type": "code",
   "execution_count": 8,
   "metadata": {},
   "outputs": [
    {
     "data": {
      "text/plain": [
       "[5, 3]"
      ]
     },
     "execution_count": 8,
     "metadata": {},
     "output_type": "execute_result"
    }
   ],
   "source": [
    "# 내풀이\n",
    "def solution(array, commands):\n",
    "    answer = []\n",
    "    for i in commands:\n",
    "        array_1=array[(i[0]-1):(i[1])]\n",
    "        answer.append(sorted(array_1)[i[2]-1])\n",
    "    return answer\n",
    "solution([4,2,5,6,3,2,4],[[2,5,3],[1,5,2]])"
   ]
  },
  {
   "cell_type": "code",
   "execution_count": 15,
   "metadata": {},
   "outputs": [],
   "source": [
    "# 다른사람 풀이\n",
    "def solution(array, commands):\n",
    "    return list(map(lambda x:sorted(array[x[0]-1:x[1]])[x[2]-1], commands)) # Map과 lambda의 활용 중요!!\n",
    "solution([4,2,5,6,3,2,4],[[2,5,3],[1,5,2]])"
   ]
  },
  {
   "cell_type": "markdown",
   "metadata": {},
   "source": [
    "### 2번"
   ]
  },
  {
   "cell_type": "code",
   "execution_count": null,
   "metadata": {},
   "outputs": [],
   "source": [
    "def solution(numbers):\n",
    "    import itertools\n",
    "    itertools.permutations(list(map())\n",
    "    answer = ''\n",
    "    return answer"
   ]
  },
  {
   "cell_type": "code",
   "execution_count": 98,
   "metadata": {},
   "outputs": [
    {
     "data": {
      "text/plain": [
       "[8, 62, 5, 4, 21, 1, 10, 11]"
      ]
     },
     "execution_count": 98,
     "metadata": {},
     "output_type": "execute_result"
    }
   ],
   "source": [
    "x=[1,4,5,8,10,11,21,62]\n",
    "x_1=sorted(x,key=lambda y: int(list(str(y))[0]),reverse=True)\n",
    "x_1"
   ]
  },
  {
   "cell_type": "code",
   "execution_count": null,
   "metadata": {},
   "outputs": [],
   "source": [
    "x=[1,4,5,8,10,11,21,62]\n",
    "z=[]\n",
    "for i in x:\n",
    "    if i<10:\n",
    "        z.append(i)\n",
    "    elif i<100:\n",
    "        z.append(i//10)\n",
    "    else:\n",
    "        z.append(i//100)\n",
    "x_1=sorted(x,key=lambda y: int(list(str(y))[0]),reverse=True)\n",
    "x_1"
   ]
  },
  {
   "cell_type": "code",
   "execution_count": 96,
   "metadata": {},
   "outputs": [
    {
     "data": {
      "text/plain": [
       "[1, 4, 5, 8, 0, 1, 1, 2]"
      ]
     },
     "execution_count": 96,
     "metadata": {},
     "output_type": "execute_result"
    }
   ],
   "source": [
    "x=[1,4,5,8,10,11,21,62]\n",
    "list(map(lambda y: y%10,x))"
   ]
  },
  {
   "cell_type": "code",
   "execution_count": 95,
   "metadata": {},
   "outputs": [
    {
     "data": {
      "text/plain": [
       "[8, 6, 5, 4, 2, 1, 1, 1]"
      ]
     },
     "execution_count": 95,
     "metadata": {},
     "output_type": "execute_result"
    }
   ],
   "source": [
    "number=[1,4,5,8,10,11,21,62]\n",
    "number_first=list(map(lambda i: int(list(str(i))[0]),number))\n",
    "num_f_sort=sorted(number_first,reverse=True)\n",
    "set(num_f_sort)\n"
   ]
  },
  {
   "cell_type": "code",
   "execution_count": null,
   "metadata": {},
   "outputs": [],
   "source": [
    "k_1=map(''.join,k)\n",
    "k_2=list(map(int,k_1))\n",
    "y=max(k_2)\n",
    "str(y)"
   ]
  },
  {
   "cell_type": "code",
   "execution_count": 50,
   "metadata": {},
   "outputs": [
    {
     "data": {
      "text/plain": [
       "['6', '10', '12']"
      ]
     },
     "execution_count": 50,
     "metadata": {},
     "output_type": "execute_result"
    }
   ],
   "source": [
    "x=[6,10,12]\n",
    "list(map(str,x))"
   ]
  },
  {
   "cell_type": "code",
   "execution_count": 73,
   "metadata": {},
   "outputs": [
    {
     "data": {
      "text/plain": [
       "'9534330'"
      ]
     },
     "execution_count": 73,
     "metadata": {},
     "output_type": "execute_result"
    }
   ],
   "source": [
    "def solution(numbers):\n",
    "    import itertools\n",
    "    str_numbers=map(str,numbers)\n",
    "    combination=itertools.permutations(str_numbers)\n",
    "    comb_join=map(''.join,combination)\n",
    "    comb_int=map(int,comb_join)\n",
    "    answer=max(comb_int)\n",
    "    return str(answer)\n",
    "solution([3, 30, 34, 5, 9])"
   ]
  },
  {
   "cell_type": "markdown",
   "metadata": {},
   "source": [
    "### 3번"
   ]
  },
  {
   "cell_type": "code",
   "execution_count": 46,
   "metadata": {},
   "outputs": [
    {
     "data": {
      "text/plain": [
       "0"
      ]
     },
     "execution_count": 46,
     "metadata": {},
     "output_type": "execute_result"
    }
   ],
   "source": [
    "# 내풀이 1번\n",
    "def solution(citations):\n",
    "    n=len(citations)\n",
    "    citations_sort=sorted(citations)\n",
    "    for i,h in enumerate(citations_sort):\n",
    "        if (n-i)<h:\n",
    "            break\n",
    "    if i==0:\n",
    "        answer=n\n",
    "    else:\n",
    "        answer=max((n-i),citations_sort[i-1])\n",
    "    if h==0:\n",
    "        answer=0\n",
    "    return answer\n",
    "solution([0])"
   ]
  },
  {
   "cell_type": "code",
   "execution_count": 47,
   "metadata": {},
   "outputs": [
    {
     "data": {
      "text/plain": [
       "0"
      ]
     },
     "execution_count": 47,
     "metadata": {},
     "output_type": "execute_result"
    }
   ],
   "source": [
    "# 내풀이 2번\n",
    "## 위에거 너무 복잡해서 한개 더 \n",
    "def solution(citations):\n",
    "    n=len(citations)\n",
    "    citations_sort=sorted(citations)\n",
    "    for i,h in enumerate(citations_sort):\n",
    "        if (n-i)<h:\n",
    "            if i==0:\n",
    "                return n\n",
    "            else:\n",
    "                return max((n-i),citations_sort[i-1])\n",
    "            break\n",
    "    return 0\n",
    "solution([0])"
   ]
  },
  {
   "cell_type": "code",
   "execution_count": null,
   "metadata": {},
   "outputs": [],
   "source": [
    "# 1번 답안\n",
    "def solution(citations):\n",
    "    citations = sorted(citations)\n",
    "    l = len(citations)\n",
    "    for i in range(l):\n",
    "        if citations[i] >= l-i:\n",
    "            return l-i\n",
    "    return 0"
   ]
  },
  {
   "cell_type": "code",
   "execution_count": null,
   "metadata": {},
   "outputs": [],
   "source": [
    "# 2번 답압\n",
    "def solution(citations):\n",
    "    citations.sort(reverse=True)\n",
    "    answer = max(map(min, enumerate(citations, start=1)))\n",
    "    return answer"
   ]
  }
 ],
 "metadata": {
  "kernelspec": {
   "display_name": "Python 3",
   "language": "python",
   "name": "python3"
  },
  "language_info": {
   "codemirror_mode": {
    "name": "ipython",
    "version": 3
   },
   "file_extension": ".py",
   "mimetype": "text/x-python",
   "name": "python",
   "nbconvert_exporter": "python",
   "pygments_lexer": "ipython3",
   "version": "3.7.3"
  }
 },
 "nbformat": 4,
 "nbformat_minor": 2
}
